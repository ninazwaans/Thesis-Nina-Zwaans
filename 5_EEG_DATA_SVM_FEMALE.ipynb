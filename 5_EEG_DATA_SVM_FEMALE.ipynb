{
  "cells": [
    {
      "cell_type": "markdown",
      "source": [
        "I utilized the SVM implementation specifically tailored for EEG data from the following GitHub repository: https://github.com/jayavardhanravi/EEG-Data-predection/blob/master/mypart1.py. This resource provided invaluable support for my SVM analysis."
      ],
      "metadata": {
        "id": "ei4N7PVjTIrP"
      }
    },
    {
      "cell_type": "code",
      "execution_count": null,
      "metadata": {
        "colab": {
          "base_uri": "https://localhost:8080/"
        },
        "id": "Kj8lCByp9dFa",
        "outputId": "ff462faf-c314-4da6-cf49-d75faeb03df8"
      },
      "outputs": [
        {
          "output_type": "stream",
          "name": "stdout",
          "text": [
            "Mounted at /content/drive\n"
          ]
        }
      ],
      "source": [
        "from google.colab import drive\n",
        "\n",
        "drive.mount('/content/drive')"
      ]
    },
    {
      "cell_type": "code",
      "execution_count": null,
      "metadata": {
        "id": "OSo-YwnR-aF2"
      },
      "outputs": [],
      "source": [
        "import numpy as np\n",
        "import pandas as pd\n",
        "import os"
      ]
    },
    {
      "cell_type": "code",
      "execution_count": null,
      "metadata": {
        "id": "Mso-NzZ19uVj"
      },
      "outputs": [],
      "source": [
        "ec_data_dir = \"/content/drive/MyDrive/TD-BRAIN/training_data/data/EC\"\n",
        "eo_data_dir = \"/content/drive/MyDrive/TD-BRAIN/training_data/data/EO\"\n",
        "ec_eeg_data = np.load(os.path.join(ec_data_dir, \"normalized_epoch_eeg_data.npy\"))\n",
        "eo_eeg_data = np.load(os.path.join(eo_data_dir, \"normalized_epoch_eeg_data.npy\"))"
      ]
    },
    {
      "cell_type": "code",
      "execution_count": null,
      "metadata": {
        "colab": {
          "base_uri": "https://localhost:8080/"
        },
        "id": "nB1g1ok5-QKw",
        "outputId": "cd4fbb80-eb06-49b7-c758-ad92d52208ba"
      },
      "outputs": [
        {
          "output_type": "stream",
          "name": "stdout",
          "text": [
            "(4356, 1, 32, 4975)\n",
            "(4344, 1, 32, 4975)\n"
          ]
        }
      ],
      "source": [
        "print(ec_eeg_data.shape)\n",
        "print(eo_eeg_data.shape)"
      ]
    },
    {
      "cell_type": "code",
      "execution_count": null,
      "metadata": {
        "id": "aNA3Bh_u-jvy"
      },
      "outputs": [],
      "source": [
        "ec_labels_dir = \"/content/drive/MyDrive/TD-BRAIN/training_data/data/EC\"\n",
        "eo_labels_dir = \"/content/drive/MyDrive/TD-BRAIN/training_data/data/EO\"\n",
        "ec_eeg_labels = np.load(os.path.join(ec_labels_dir, \"labels_data.npy\"))\n",
        "eo_eeg_labels = np.load(os.path.join(eo_labels_dir, \"labels_data.npy\"))"
      ]
    },
    {
      "cell_type": "code",
      "execution_count": null,
      "metadata": {
        "colab": {
          "base_uri": "https://localhost:8080/"
        },
        "id": "GjUzGyL7_Axu",
        "outputId": "3d3470ee-8b18-4c05-c949-dd245f1772a1"
      },
      "outputs": [
        {
          "output_type": "stream",
          "name": "stdout",
          "text": [
            "(4356, 2)\n",
            "(4344, 2)\n"
          ]
        }
      ],
      "source": [
        "print(ec_eeg_labels.shape)\n",
        "print(eo_eeg_labels.shape)"
      ]
    },
    {
      "cell_type": "code",
      "execution_count": null,
      "metadata": {
        "colab": {
          "base_uri": "https://localhost:8080/"
        },
        "id": "FP49u4sF0D0b",
        "outputId": "3c507a2e-0975-4e6f-f9ec-224a7ab8e636"
      },
      "outputs": [
        {
          "output_type": "stream",
          "name": "stdout",
          "text": [
            "(4344, 2)\n",
            "(4344, 1, 32, 4975)\n"
          ]
        }
      ],
      "source": [
        "for label in ec_eeg_labels:\n",
        "  sample_id = label[0]\n",
        "  if sample_id not in eo_eeg_labels[:, 0]:\n",
        "        index_to_remove = np.where(ec_eeg_labels[:, 0] == sample_id)[0]\n",
        "        ec_eeg_labels = np.delete(ec_eeg_labels, index_to_remove, axis=0)\n",
        "        ec_eeg_data = np.delete(ec_eeg_data, index_to_remove, axis=0)\n",
        "print(ec_eeg_labels.shape)\n",
        "print(ec_eeg_data.shape)\n",
        "\n",
        "eeg_data = np.concatenate((ec_eeg_data[:, 0], eo_eeg_data[:, 0]), axis=1)\n",
        "eeg_data.shape\n",
        "\n",
        "eeg_labels = ec_eeg_labels"
      ]
    },
    {
      "cell_type": "code",
      "execution_count": null,
      "metadata": {
        "colab": {
          "base_uri": "https://localhost:8080/"
        },
        "id": "6o2e6442_rix",
        "outputId": "68c37c57-b439-4248-acda-d06ad7994102"
      },
      "outputs": [
        {
          "output_type": "stream",
          "name": "stdout",
          "text": [
            "Number of MDD participants: 3780\n",
            "Number of Healthy participants: 564\n"
          ]
        }
      ],
      "source": [
        "healthy_count, mdd_count = 0, 0\n",
        "for sample in eeg_labels:\n",
        "  if sample[1] == \"MDD\":\n",
        "      mdd_count += 1\n",
        "  else:\n",
        "      healthy_count += 1\n",
        "\n",
        "print(f\"Number of MDD participants: {mdd_count}\")\n",
        "print(f\"Number of Healthy participants: {healthy_count}\")"
      ]
    },
    {
      "cell_type": "markdown",
      "metadata": {
        "id": "VMj3gbuquMBf"
      },
      "source": [
        "#Extracting data for female participants"
      ]
    },
    {
      "cell_type": "code",
      "execution_count": null,
      "metadata": {
        "colab": {
          "base_uri": "https://localhost:8080/"
        },
        "id": "AO_353PuuLbn",
        "outputId": "46636f8f-fa3a-4875-b0f2-30c22b2ccbc7"
      },
      "outputs": [
        {
          "output_type": "stream",
          "name": "stdout",
          "text": [
            "(1932, 64, 4975) (1932, 2)\n"
          ]
        }
      ],
      "source": [
        "df_participants = pd.read_pickle('/content/drive/MyDrive/TD-BRAIN/TDBRAIN_participants_V2_data/df_participants.pkl')\n",
        "female_count = 0\n",
        "\n",
        "eeg_data_female = []\n",
        "eeg_label_female = []\n",
        "\n",
        "for i, labels in enumerate(eeg_labels):\n",
        "     sample_id = labels[0]\n",
        "     index = df_participants.loc[df_participants['participants_ID'] == sample_id].index\n",
        "     if [value for value in df_participants.loc[index, 'gender']][0] == 1:\n",
        "       eeg_data_female.append(eeg_data[i])\n",
        "       eeg_label_female.append(eeg_labels[i])\n",
        "\n",
        "eeg_data_female = np.array(eeg_data_female)\n",
        "eeg_label_female = np.array(eeg_label_female)\n",
        "\n",
        "print(eeg_data_female.shape, eeg_label_female.shape)"
      ]
    },
    {
      "cell_type": "code",
      "execution_count": null,
      "metadata": {
        "colab": {
          "base_uri": "https://localhost:8080/"
        },
        "id": "o_V9agNEFFYG",
        "outputId": "9fd8db2d-f1eb-49d9-bd21-467ae04627cc"
      },
      "outputs": [
        {
          "output_type": "stream",
          "name": "stdout",
          "text": [
            "Number of MDD female participants: 1740\n",
            "Number of Healthy female participants: 192\n"
          ]
        }
      ],
      "source": [
        "healthy_count_female, mdd_count_female = 0, 0\n",
        "for sample in eeg_label_female:\n",
        "  if sample[1] == \"MDD\":\n",
        "      mdd_count_female += 1\n",
        "  else:\n",
        "      healthy_count_female += 1\n",
        "\n",
        "print(f\"Number of MDD female participants: {mdd_count_female}\")\n",
        "print(f\"Number of Healthy female participants: {healthy_count_female}\")"
      ]
    },
    {
      "cell_type": "markdown",
      "metadata": {
        "id": "VU0Kf2SFYNT_"
      },
      "source": [
        "# **Model**"
      ]
    },
    {
      "cell_type": "code",
      "execution_count": null,
      "metadata": {
        "id": "b2X4KAfWcAVk"
      },
      "outputs": [],
      "source": [
        "import numpy as np\n",
        "import pandas as pd\n",
        "from sklearn.model_selection import StratifiedKFold\n",
        "from sklearn.svm import SVC\n",
        "from sklearn.metrics import accuracy_score, precision_score, recall_score, f1_score, confusion_matrix\n",
        "from sklearn.utils import resample, shuffle"
      ]
    },
    {
      "cell_type": "code",
      "execution_count": null,
      "metadata": {
        "colab": {
          "base_uri": "https://localhost:8080/"
        },
        "id": "WyCSl6BScBEJ",
        "outputId": "f6fbbf56-a371-489e-f395-0528516da46b"
      },
      "outputs": [
        {
          "output_type": "stream",
          "name": "stdout",
          "text": [
            "Length of filtered eeg_label_female: 1920\n",
            "Length of filtered eeg_data_female: 1920\n",
            "1920\n",
            "160\n",
            "32\n",
            "(384, 64, 4975)\n"
          ]
        }
      ],
      "source": [
        "ll = eeg_label_female\n",
        "encountered_sample_ids = {}\n",
        "sample_ids_with_more_than_12_entries = []\n",
        "\n",
        "for index, sample_id in enumerate(ll):\n",
        "    sample_id_tuple = tuple(sample_id)\n",
        "    count = encountered_sample_ids.get(sample_id_tuple, 0)\n",
        "    count += 1\n",
        "    encountered_sample_ids[sample_id_tuple] = count\n",
        "    if count > 12:\n",
        "        sample_ids_with_more_than_12_entries.append((sample_id_tuple, index))\n",
        "\n",
        "indices_to_remove = [index for _, index in sample_ids_with_more_than_12_entries]\n",
        "eeg_label_female = [sample for i, sample in enumerate(eeg_label_female) if i not in indices_to_remove]\n",
        "eeg_data_female = [data for i, data in enumerate(eeg_data_female) if i not in indices_to_remove]\n",
        "print(\"Length of filtered eeg_label_female:\", len(eeg_label_female))\n",
        "print(\"Length of filtered eeg_data_female:\", len(eeg_data_female))\n",
        "\n",
        "\n",
        "###### Undersampling and preparing training data ########\n",
        "ll = eeg_label_female\n",
        "unique_sample_id = []\n",
        "encountered_sample_ids = set()\n",
        "print(len(ll))\n",
        "for sample_id in ll:\n",
        "    sample_id_tuple = tuple(sample_id)\n",
        "    if sample_id_tuple not in encountered_sample_ids:\n",
        "        unique_sample_id.append(sample_id)\n",
        "        encountered_sample_ids.add(sample_id_tuple)\n",
        "print(len(unique_sample_id))\n",
        "\n",
        "num_samples_minority = 16\n",
        "indices_maj = [index for index, sample in enumerate(unique_sample_id) if sample[1] == \"MDD\"]\n",
        "indices_min = [index for index, sample in enumerate(unique_sample_id) if sample[1] == \"HEALTHY\"]\n",
        "undersampled = np.random.choice(indices_maj, num_samples_minority, replace=False)\n",
        "\n",
        "balanced_data_indices = np.concatenate([indices_min, undersampled])\n",
        "# print(unique_sample_id)\n",
        "balanced_unique_sample_id = [unique_sample_id[i] for i in balanced_data_indices]\n",
        "\n",
        "# Extract all unique sample IDs from train_unique_sample_id\n",
        "unique_sample_ids = [sample_id[0] for sample_id in balanced_unique_sample_id]\n",
        "print(len(unique_sample_ids))\n",
        "# Extract all indices from eeg_labels for sample IDs in train_unique_sample_id\n",
        "indices = []\n",
        "for i, sample_id in enumerate(eeg_label_female):\n",
        "  # print(sample_id[0])\n",
        "  if sample_id[0] in unique_sample_ids:\n",
        "        indices.append(i)\n",
        "\n",
        "# Convert indices to a NumPy array\n",
        "indices = np.array(indices)\n",
        "X_train = []\n",
        "y_train = []\n",
        "for i in indices:\n",
        "    X_train.append(eeg_data_female[i])\n",
        "    y_train.append(eeg_label_female[i])\n",
        "\n",
        "X_train = np.array(X_train)\n",
        "y_train = np.array(y_train)\n",
        "\n",
        "# Shuffle together with their indices\n",
        "permutation = np.random.permutation(len(X_train))\n",
        "X_train = X_train[permutation]\n",
        "y_train = y_train[permutation]\n",
        "\n",
        "print(X_train.shape)\n",
        "# print(y_train)\n",
        "\n",
        "sample_ids = []\n",
        "for sample in y_train:\n",
        "  sample_ids.append(sample[0])\n",
        "sample_ids = np.array(sample_ids)\n",
        "l = np.array([1 if label[1] == \"MDD\" else 0 for label in y_train])"
      ]
    },
    {
      "cell_type": "markdown",
      "metadata": {
        "id": "BUne2Rr92Kfr"
      },
      "source": [
        "# Results sigmoid"
      ]
    },
    {
      "cell_type": "code",
      "execution_count": null,
      "metadata": {
        "colab": {
          "base_uri": "https://localhost:8080/"
        },
        "id": "--6IG0k80CwA",
        "outputId": "6bdbee2c-6fc5-40e5-e6bf-eb7ef256ca15"
      },
      "outputs": [
        {
          "name": "stdout",
          "output_type": "stream",
          "text": [
            "Fold 1:\n",
            "Training Results - Accuracy: 0.7937915742793792, Precision: 0.7830207344096234, Recall: 0.8137474229065228, F1 Score: 0.7852391948837948\n",
            "Validation Results - Accuracy: 0.45132743362831856, Precision: 0.45809792843691155, Recall: 0.45374220374220375, F1 Score: 0.44148596938775514\n",
            "Validation Confusion Matrix:\n",
            "[[33 41]\n",
            " [21 18]]\n",
            "\n",
            "Fold 2:\n",
            "Training Results - Accuracy: 0.8203991130820399, Precision: 0.8045272435897436, Recall: 0.8323713323713324, F1 Score: 0.8107172650352079\n",
            "Validation Results - Accuracy: 0.4247787610619469, Precision: 0.43742118537200503, Recall: 0.4303508771929825, F1 Score: 0.41581165990614816\n",
            "Validation Confusion Matrix:\n",
            "[[31 44]\n",
            " [21 17]]\n",
            "\n",
            "Fold 3:\n",
            "Training Results - Accuracy: 0.7694013303769401, Precision: 0.7770390070921986, Recall: 0.8125138895062003, F1 Score: 0.7641972329472329\n",
            "Validation Results - Accuracy: 0.40707964601769914, Precision: 0.4349593495934959, Recall: 0.4362126245847176, F1 Score: 0.40689385037211123\n",
            "Validation Confusion Matrix:\n",
            "[[22 48]\n",
            " [19 24]]\n",
            "\n",
            "Fold 4:\n",
            "Training Results - Accuracy: 0.844789356984479, Precision: 0.8283457936247125, Recall: 0.8443288532781943, F1 Score: 0.8343929665533594\n",
            "Validation Results - Accuracy: 0.5752212389380531, Precision: 0.5555028462998103, Recall: 0.5664772727272727, F1 Score: 0.545271629778672\n",
            "Validation Confusion Matrix:\n",
            "[[47 33]\n",
            " [15 18]]\n",
            "\n",
            "Fold 5:\n",
            "Training Results - Accuracy: 0.8296460176991151, Precision: 0.8135989010989011, Recall: 0.7994294707849695, F1 Score: 0.8055892259653787\n",
            "Validation Results - Accuracy: 0.6160714285714286, Precision: 0.5378787878787878, Recall: 0.5263435194942044, F1 Score: 0.5156391431157599\n",
            "Validation Confusion Matrix:\n",
            "[[60 13]\n",
            " [30  9]]\n",
            "\n"
          ]
        }
      ],
      "source": [
        "from sklearn.model_selection import KFold\n",
        "from sklearn.svm import SVC\n",
        "from sklearn.metrics import accuracy_score, precision_score, recall_score, f1_score, confusion_matrix\n",
        "from sklearn.utils.class_weight import compute_class_weight\n",
        "import numpy as np\n",
        "\n",
        "class EEGClassifier:\n",
        "    def __init__(self):\n",
        "        # Model geïnitialiseerd met de beste parameters\n",
        "        self.model = SVC(kernel='sigmoid', C=0.4)\n",
        "\n",
        "    def train(self, X_train, y_train):\n",
        "        # Flatten X_train voor SVM gebruik\n",
        "        X_train_flattened = X_train.reshape(X_train.shape[0], -1)\n",
        "\n",
        "        # Extract alleen de labels van y_train\n",
        "        y_labels = np.array([label[1] for label in y_train])  # Selecteer de tweede kolom, die de labels bevat\n",
        "\n",
        "        # Bereken klasse gewichten\n",
        "        class_weights = compute_class_weight('balanced', classes=np.unique(y_labels), y=y_labels)\n",
        "        class_weight_dict = dict(zip(np.unique(y_labels), class_weights))\n",
        "\n",
        "        # Stel klasse gewichten in en train het model\n",
        "        self.model.class_weight = class_weight_dict\n",
        "        self.model.fit(X_train_flattened, y_labels)\n",
        "\n",
        "    def evaluate(self, X_test, y_test):\n",
        "        # Flatten X_test voor SVM gebruik\n",
        "        X_test_flattened = X_test.reshape(X_test.shape[0], -1)\n",
        "        # Extract alleen de labels van y_test\n",
        "        y_labels = np.array([label[1] for label in y_test])  # Selecteer de tweede kolom, die de labels bevat\n",
        "        y_pred = self.model.predict(X_test_flattened)\n",
        "\n",
        "        return {\n",
        "            'accuracy': accuracy_score(y_labels, y_pred),\n",
        "            'precision': precision_score(y_labels, y_pred, average='macro'),\n",
        "            'recall': recall_score(y_labels, y_pred, average='macro'),\n",
        "            'f1_score': f1_score(y_labels, y_pred, average='macro'),\n",
        "            'confusion_matrix': confusion_matrix(y_labels, y_pred)\n",
        "        }\n",
        "\n",
        "def main():\n",
        "    # Hier moet je eigen data laden en aanpassen\n",
        "    # Bijvoorbeeld:\n",
        "    # X_train, y_train = load_your_data()\n",
        "\n",
        "    X_train_flattened = X_train.reshape(X_train.shape[0], -1)\n",
        "\n",
        "    num_splits = 5\n",
        "    cv = KFold(n_splits=num_splits, shuffle=True, random_state=42)\n",
        "\n",
        "    classifier = EEGClassifier()\n",
        "\n",
        "    for fold_idx, (train_index, val_index) in enumerate(cv.split(X_train_flattened), 1):\n",
        "        print(f\"Fold {fold_idx}:\")\n",
        "\n",
        "        X_train_fold = X_train_flattened[train_index]\n",
        "        y_train_fold = y_train[train_index]\n",
        "        X_val_fold = X_train_flattened[val_index]\n",
        "        y_val_fold = y_train[val_index]\n",
        "\n",
        "        classifier.train(X_train_fold, y_train_fold)\n",
        "\n",
        "        # Evalueren van de training data\n",
        "        train_metrics = classifier.evaluate(X_train_fold, y_train_fold)\n",
        "        print(f'Training Results - Accuracy: {train_metrics[\"accuracy\"]}, Precision: {train_metrics[\"precision\"]}, Recall: {train_metrics[\"recall\"]}, F1 Score: {train_metrics[\"f1_score\"]}')\n",
        "\n",
        "        # Evalueren van de validatie data\n",
        "        val_metrics = classifier.evaluate(X_val_fold, y_val_fold)\n",
        "        print(f'Validation Results - Accuracy: {val_metrics[\"accuracy\"]}, Precision: {val_metrics[\"precision\"]}, Recall: {val_metrics[\"recall\"]}, F1 Score: {val_metrics[\"f1_score\"]}')\n",
        "        print('Validation Confusion Matrix:')\n",
        "        print(val_metrics['confusion_matrix'])\n",
        "        print()\n",
        "\n",
        "if __name__ == \"__main__\":\n",
        "    main()\n"
      ]
    },
    {
      "cell_type": "markdown",
      "metadata": {
        "id": "-YePAc3t2RgS"
      },
      "source": [
        "# Results rbf"
      ]
    },
    {
      "cell_type": "code",
      "execution_count": null,
      "metadata": {
        "colab": {
          "base_uri": "https://localhost:8080/"
        },
        "id": "RR4n9ueS2TAl",
        "outputId": "6b8e06f9-d003-44fc-98b2-a55972b1889c"
      },
      "outputs": [
        {
          "output_type": "stream",
          "name": "stdout",
          "text": [
            "Fold 1:\n",
            "Training Results - Accuracy: 0.758957654723127, Precision: 0.7720868409393, Recall: 0.7606979113601631, F1 Score: 0.7567874272010962\n",
            "Validation Results - Accuracy: 0.4675324675324675, Precision: 0.44565217391304346, Recall: 0.45426829268292684, F1 Score: 0.43675289919714544\n",
            "Validation Confusion Matrix:\n",
            "[[ 9 27]\n",
            " [14 27]]\n",
            "\n",
            "Fold 2:\n",
            "Training Results - Accuracy: 0.739413680781759, Precision: 0.8119015047879616, Recall: 0.7523627075351214, F1 Score: 0.7294200599330161\n",
            "Validation Results - Accuracy: 0.6493506493506493, Precision: 0.6274509803921569, Recall: 0.5921985815602837, F1 Score: 0.586597733147743\n",
            "Validation Confusion Matrix:\n",
            "[[10 20]\n",
            " [ 7 40]]\n",
            "\n",
            "Fold 3:\n",
            "Training Results - Accuracy: 0.7947882736156352, Precision: 0.8139415340604327, Recall: 0.7983391385608699, F1 Score: 0.7928097783586325\n",
            "Validation Results - Accuracy: 0.5844155844155844, Precision: 0.5731523378582202, Recall: 0.5663474692202461, F1 Score: 0.5631205673758866\n",
            "Validation Confusion Matrix:\n",
            "[[14 20]\n",
            " [12 31]]\n",
            "\n",
            "Fold 4:\n",
            "Training Results - Accuracy: 0.7850162866449512, Precision: 0.8046134899583175, Recall: 0.7744771660264618, F1 Score: 0.7761797454931071\n",
            "Validation Results - Accuracy: 0.4805194805194805, Precision: 0.5545454545454546, Recall: 0.5488888888888889, F1 Score: 0.478319783197832\n",
            "Validation Confusion Matrix:\n",
            "[[16 34]\n",
            " [ 6 21]]\n",
            "\n",
            "Fold 5:\n",
            "Training Results - Accuracy: 0.7597402597402597, Precision: 0.7767857142857143, Recall: 0.7563713080168777, F1 Score: 0.754258851942899\n",
            "Validation Results - Accuracy: 0.4342105263157895, Precision: 0.44588235294117645, Recall: 0.45168067226890757, F1 Score: 0.4261633011413521\n",
            "Validation Confusion Matrix:\n",
            "[[12 30]\n",
            " [13 21]]\n",
            "\n"
          ]
        }
      ],
      "source": [
        "from sklearn.model_selection import KFold\n",
        "from sklearn.svm import SVC\n",
        "from sklearn.metrics import accuracy_score, precision_score, recall_score, f1_score, confusion_matrix\n",
        "from sklearn.utils.class_weight import compute_class_weight\n",
        "import numpy as np\n",
        "\n",
        "class EEGClassifier:\n",
        "    def __init__(self):\n",
        "        # Model geïnitialiseerd met de beste parameters\n",
        "        self.model = SVC(kernel='rbf', C=0.4)\n",
        "\n",
        "    def train(self, X_train, y_train):\n",
        "        # Flatten X_train voor SVM gebruik\n",
        "        X_train_flattened = X_train.reshape(X_train.shape[0], -1)\n",
        "\n",
        "        # Extract alleen de labels van y_train\n",
        "        y_labels = np.array([label[1] for label in y_train])  # Selecteer de tweede kolom, die de labels bevat\n",
        "\n",
        "        # Bereken klasse gewichten\n",
        "        class_weights = compute_class_weight('balanced', classes=np.unique(y_labels), y=y_labels)\n",
        "        class_weight_dict = dict(zip(np.unique(y_labels), class_weights))\n",
        "\n",
        "        # Stel klasse gewichten in en train het model\n",
        "        self.model.class_weight = class_weight_dict\n",
        "        self.model.fit(X_train_flattened, y_labels)\n",
        "\n",
        "    def evaluate(self, X_test, y_test):\n",
        "        # Flatten X_test voor SVM gebruik\n",
        "        X_test_flattened = X_test.reshape(X_test.shape[0], -1)\n",
        "        # Extract alleen de labels van y_test\n",
        "        y_labels = np.array([label[1] for label in y_test])  # Selecteer de tweede kolom, die de labels bevat\n",
        "        y_pred = self.model.predict(X_test_flattened)\n",
        "\n",
        "        return {\n",
        "            'accuracy': accuracy_score(y_labels, y_pred),\n",
        "            'precision': precision_score(y_labels, y_pred, average='macro'),\n",
        "            'recall': recall_score(y_labels, y_pred, average='macro'),\n",
        "            'f1_score': f1_score(y_labels, y_pred, average='macro'),\n",
        "            'confusion_matrix': confusion_matrix(y_labels, y_pred)\n",
        "        }\n",
        "\n",
        "def main():\n",
        "    # Hier moet je eigen data laden en aanpassen\n",
        "    # Bijvoorbeeld:\n",
        "    # X_train, y_train = load_your_data()\n",
        "\n",
        "    X_train_flattened = X_train.reshape(X_train.shape[0], -1)\n",
        "\n",
        "    num_splits = 5\n",
        "    cv = KFold(n_splits=num_splits, shuffle=True, random_state=42)\n",
        "\n",
        "    classifier = EEGClassifier()\n",
        "\n",
        "    for fold_idx, (train_index, val_index) in enumerate(cv.split(X_train_flattened), 1):\n",
        "        print(f\"Fold {fold_idx}:\")\n",
        "\n",
        "        X_train_fold = X_train_flattened[train_index]\n",
        "        y_train_fold = y_train[train_index]\n",
        "        X_val_fold = X_train_flattened[val_index]\n",
        "        y_val_fold = y_train[val_index]\n",
        "\n",
        "        classifier.train(X_train_fold, y_train_fold)\n",
        "\n",
        "        # Evalueren van de training data\n",
        "        train_metrics = classifier.evaluate(X_train_fold, y_train_fold)\n",
        "        print(f'Training Results - Accuracy: {train_metrics[\"accuracy\"]}, Precision: {train_metrics[\"precision\"]}, Recall: {train_metrics[\"recall\"]}, F1 Score: {train_metrics[\"f1_score\"]}')\n",
        "\n",
        "        # Evalueren van de validatie data\n",
        "        val_metrics = classifier.evaluate(X_val_fold, y_val_fold)\n",
        "        print(f'Validation Results - Accuracy: {val_metrics[\"accuracy\"]}, Precision: {val_metrics[\"precision\"]}, Recall: {val_metrics[\"recall\"]}, F1 Score: {val_metrics[\"f1_score\"]}')\n",
        "        print('Validation Confusion Matrix:')\n",
        "        print(val_metrics['confusion_matrix'])\n",
        "        print()\n",
        "\n",
        "if __name__ == \"__main__\":\n",
        "    main()\n"
      ]
    },
    {
      "cell_type": "code",
      "source": [],
      "metadata": {
        "id": "4WoC2OpkWSU-"
      },
      "execution_count": null,
      "outputs": []
    }
  ],
  "metadata": {
    "accelerator": "GPU",
    "colab": {
      "gpuType": "V100",
      "machine_shape": "hm",
      "provenance": []
    },
    "kernelspec": {
      "display_name": "Python 3",
      "name": "python3"
    },
    "language_info": {
      "name": "python"
    }
  },
  "nbformat": 4,
  "nbformat_minor": 0
}
