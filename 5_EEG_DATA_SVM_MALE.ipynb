{
  "cells": [
    {
      "cell_type": "markdown",
      "source": [
        "I utilized the SVM implementation specifically tailored for EEG data from the following GitHub repository: https://github.com/jayavardhanravi/EEG-Data-predection/blob/master/mypart1.py. This resource provided invaluable support for my SVM analysis."
      ],
      "metadata": {
        "id": "nuNFuM4RS-q5"
      }
    },
    {
      "cell_type": "code",
      "execution_count": null,
      "metadata": {
        "id": "Kj8lCByp9dFa",
        "colab": {
          "base_uri": "https://localhost:8080/"
        },
        "outputId": "94049077-87e1-4264-f777-26a1f9cbf189"
      },
      "outputs": [
        {
          "output_type": "stream",
          "name": "stdout",
          "text": [
            "Mounted at /content/drive\n"
          ]
        }
      ],
      "source": [
        "from google.colab import drive\n",
        "\n",
        "drive.mount('/content/drive')"
      ]
    },
    {
      "cell_type": "code",
      "execution_count": null,
      "metadata": {
        "id": "OSo-YwnR-aF2"
      },
      "outputs": [],
      "source": [
        "import numpy as np\n",
        "import pandas as pd\n",
        "import os"
      ]
    },
    {
      "cell_type": "code",
      "execution_count": null,
      "metadata": {
        "id": "Mso-NzZ19uVj"
      },
      "outputs": [],
      "source": [
        "ec_data_dir = \"/content/drive/MyDrive/TD-BRAIN/training_data/data/EC\"\n",
        "eo_data_dir = \"/content/drive/MyDrive/TD-BRAIN/training_data/data/EO\"\n",
        "ec_eeg_data = np.load(os.path.join(ec_data_dir, \"normalized_epoch_eeg_data.npy\"))\n",
        "eo_eeg_data = np.load(os.path.join(eo_data_dir, \"normalized_epoch_eeg_data.npy\"))"
      ]
    },
    {
      "cell_type": "code",
      "execution_count": null,
      "metadata": {
        "id": "nB1g1ok5-QKw",
        "colab": {
          "base_uri": "https://localhost:8080/"
        },
        "outputId": "7a4a356f-f32b-412a-e145-9da459b3f9c8"
      },
      "outputs": [
        {
          "output_type": "stream",
          "name": "stdout",
          "text": [
            "(4356, 1, 32, 4975)\n",
            "(4344, 1, 32, 4975)\n"
          ]
        }
      ],
      "source": [
        "print(ec_eeg_data.shape)\n",
        "print(eo_eeg_data.shape)"
      ]
    },
    {
      "cell_type": "code",
      "execution_count": null,
      "metadata": {
        "id": "aNA3Bh_u-jvy"
      },
      "outputs": [],
      "source": [
        "ec_labels_dir = \"/content/drive/MyDrive/TD-BRAIN/training_data/data/EC\"\n",
        "eo_labels_dir = \"/content/drive/MyDrive/TD-BRAIN/training_data/data/EO\"\n",
        "ec_eeg_labels = np.load(os.path.join(ec_labels_dir, \"labels_data.npy\"))\n",
        "eo_eeg_labels = np.load(os.path.join(eo_labels_dir, \"labels_data.npy\"))"
      ]
    },
    {
      "cell_type": "code",
      "source": [
        "for label in ec_eeg_labels:\n",
        "  sample_id = label[0]\n",
        "  if sample_id not in eo_eeg_labels[:, 0]:\n",
        "        index_to_remove = np.where(ec_eeg_labels[:, 0] == sample_id)[0]\n",
        "        ec_eeg_labels = np.delete(ec_eeg_labels, index_to_remove, axis=0)\n",
        "        ec_eeg_data = np.delete(ec_eeg_data, index_to_remove, axis=0)\n",
        "print(ec_eeg_labels.shape)\n",
        "print(ec_eeg_data.shape)\n",
        "\n",
        "eeg_data = np.concatenate((ec_eeg_data[:, 0], eo_eeg_data[:, 0]), axis=1)\n",
        "eeg_data.shape\n",
        "\n",
        "eeg_labels = ec_eeg_labels"
      ],
      "metadata": {
        "id": "d1v3uScQzsKo",
        "colab": {
          "base_uri": "https://localhost:8080/"
        },
        "outputId": "63d496b6-2d98-417e-f2a9-3b41d2e387de"
      },
      "execution_count": null,
      "outputs": [
        {
          "output_type": "stream",
          "name": "stdout",
          "text": [
            "(4344, 2)\n",
            "(4344, 1, 32, 4975)\n"
          ]
        }
      ]
    },
    {
      "cell_type": "code",
      "source": [
        "healthy_count, mdd_count = 0, 0\n",
        "for sample in eeg_labels:\n",
        "  if sample[1] == \"MDD\":\n",
        "      mdd_count += 1\n",
        "  else:\n",
        "      healthy_count += 1\n",
        "\n",
        "print(f\"Number of MDD participants: {mdd_count}\")\n",
        "print(f\"Number of Healthy participants: {healthy_count}\")"
      ],
      "metadata": {
        "id": "6o2e6442_rix",
        "colab": {
          "base_uri": "https://localhost:8080/"
        },
        "outputId": "a2fb6800-5782-443f-ef15-0e96714ed9b3"
      },
      "execution_count": null,
      "outputs": [
        {
          "output_type": "stream",
          "name": "stdout",
          "text": [
            "Number of MDD participants: 3780\n",
            "Number of Healthy participants: 564\n"
          ]
        }
      ]
    },
    {
      "cell_type": "markdown",
      "source": [
        "## Extracting data for male participants"
      ],
      "metadata": {
        "id": "QAhX7NtQyQWR"
      }
    },
    {
      "cell_type": "code",
      "source": [
        "df_participants = pd.read_pickle('/content/drive/MyDrive/TD-BRAIN/TDBRAIN_participants_V2_data/df_participants.pkl')\n",
        "male_count = 0\n",
        "\n",
        "eeg_data_male = []\n",
        "eeg_label_male = []\n",
        "\n",
        "for i, labels in enumerate(eeg_labels):\n",
        "     sample_id = labels[0]\n",
        "     index = df_participants.loc[df_participants['participants_ID'] == sample_id].index\n",
        "     if [value for value in df_participants.loc[index, 'gender']][0] == 0:\n",
        "       eeg_data_male.append(eeg_data[i])\n",
        "       eeg_label_male.append(eeg_labels[i])\n",
        "\n",
        "eeg_data_male = np.array(eeg_data_male)\n",
        "eeg_label_male = np.array(eeg_label_male)\n",
        "\n",
        "print(eeg_data_male.shape, eeg_label_male.shape)"
      ],
      "metadata": {
        "id": "_IHvvgO8ySbU",
        "colab": {
          "base_uri": "https://localhost:8080/"
        },
        "outputId": "7953ff73-2c3a-48c7-ca65-c45c3663c157"
      },
      "execution_count": null,
      "outputs": [
        {
          "output_type": "stream",
          "name": "stdout",
          "text": [
            "(2412, 64, 4975) (2412, 2)\n"
          ]
        }
      ]
    },
    {
      "cell_type": "code",
      "source": [
        "healthy_count_male, mdd_count_male = 0, 0\n",
        "for sample in eeg_label_male:\n",
        "  if sample[1] == \"MDD\":\n",
        "      mdd_count_male += 1\n",
        "  else:\n",
        "      healthy_count_male += 1\n",
        "\n",
        "print(f\"Number of MDD male participants: {mdd_count_male}\")\n",
        "print(f\"Number of Healthy male participants: {healthy_count_male}\")"
      ],
      "metadata": {
        "id": "PhMZBTvGyVzA",
        "colab": {
          "base_uri": "https://localhost:8080/"
        },
        "outputId": "54190484-4c2b-46cc-8428-3afb97bc3f32"
      },
      "execution_count": null,
      "outputs": [
        {
          "output_type": "stream",
          "name": "stdout",
          "text": [
            "Number of MDD male participants: 2040\n",
            "Number of Healthy male participants: 372\n"
          ]
        }
      ]
    },
    {
      "cell_type": "markdown",
      "source": [
        "# Model"
      ],
      "metadata": {
        "id": "cVNdw48fyW6U"
      }
    },
    {
      "cell_type": "code",
      "source": [
        "import numpy as np\n",
        "import pandas as pd\n",
        "from sklearn.model_selection import StratifiedKFold\n",
        "from sklearn.svm import SVC\n",
        "from sklearn.metrics import accuracy_score, precision_score, recall_score, f1_score, confusion_matrix\n",
        "from sklearn.utils import resample, shuffle"
      ],
      "metadata": {
        "id": "ooVsQm5nycAU"
      },
      "execution_count": null,
      "outputs": []
    },
    {
      "cell_type": "code",
      "source": [
        "ll = eeg_label_male\n",
        "encountered_sample_ids = {}\n",
        "sample_ids_with_more_than_12_entries = []\n",
        "\n",
        "for index, sample_id in enumerate(ll):\n",
        "    sample_id_tuple = tuple(sample_id)\n",
        "    count = encountered_sample_ids.get(sample_id_tuple, 0)\n",
        "    count += 1\n",
        "    encountered_sample_ids[sample_id_tuple] = count\n",
        "    if count > 12:\n",
        "        sample_ids_with_more_than_12_entries.append((sample_id_tuple, index))\n",
        "\n",
        "indices_to_remove = [index for _, index in sample_ids_with_more_than_12_entries]\n",
        "eeg_label_male = [sample for i, sample in enumerate(eeg_label_male) if i not in indices_to_remove]\n",
        "eeg_data_male = [data for i, data in enumerate(eeg_data_male) if i not in indices_to_remove]\n",
        "print(\"Length of filtered eeg_label_male:\", len(eeg_label_male))\n",
        "print(\"Length of filtered eeg_data_male:\", len(eeg_data_male))\n",
        "\n",
        "\n",
        "###### Undersampling and preparing training data ########\n",
        "ll = eeg_label_male\n",
        "unique_sample_id = []\n",
        "encountered_sample_ids = set()\n",
        "print(len(ll))\n",
        "for sample_id in ll:\n",
        "    sample_id_tuple = tuple(sample_id)\n",
        "    if sample_id_tuple not in encountered_sample_ids:\n",
        "        unique_sample_id.append(sample_id)\n",
        "        encountered_sample_ids.add(sample_id_tuple)\n",
        "print(len(unique_sample_id))\n",
        "\n",
        "num_samples_minority = 31\n",
        "indices_maj = [index for index, sample in enumerate(unique_sample_id) if sample[1] == \"MDD\"]\n",
        "indices_min = [index for index, sample in enumerate(unique_sample_id) if sample[1] == \"HEALTHY\"]\n",
        "undersampled = np.random.choice(indices_maj, num_samples_minority, replace=False)\n",
        "\n",
        "balanced_data_indices = np.concatenate([indices_min, undersampled])\n",
        "balanced_unique_sample_id = [unique_sample_id[i] for i in balanced_data_indices]\n",
        "\n",
        "# Extract all unique sample IDs from balanced_unique_sample_id\n",
        "unique_sample_ids = [sample_id[0] for sample_id in balanced_unique_sample_id]\n",
        "print(len(unique_sample_ids))\n",
        "# Extract all indices from eeg_label_male for sample IDs in balanced_unique_sample_id\n",
        "indices = []\n",
        "for i, sample_id in enumerate(eeg_label_male):\n",
        "  if sample_id[0] in unique_sample_ids:\n",
        "        indices.append(i)\n",
        "\n",
        "# Convert indices to a NumPy array\n",
        "indices = np.array(indices)\n",
        "X_train = []\n",
        "y_train = []\n",
        "for i in indices:\n",
        "    X_train.append(eeg_data_male[i])\n",
        "    y_train.append(eeg_label_male[i])\n",
        "\n",
        "X_train = np.array(X_train)\n",
        "y_train = np.array(y_train)\n",
        "\n",
        "# Shuffle together with their indices\n",
        "permutation = np.random.permutation(len(X_train))\n",
        "X_train = X_train[permutation]\n",
        "y_train = y_train[permutation]\n",
        "\n",
        "print(X_train.shape)\n",
        "# print(y_train)\n",
        "\n",
        "sample_ids = []\n",
        "for sample in y_train:\n",
        "  sample_ids.append(sample[0])\n",
        "sample_ids = np.array(sample_ids)\n",
        "l = np.array([1 if label[1] == \"MDD\" else 0 for label in y_train])\n"
      ],
      "metadata": {
        "id": "OXBgLS_Ku0BV",
        "colab": {
          "base_uri": "https://localhost:8080/"
        },
        "outputId": "8471e784-4101-477a-c781-55e0beaef01b"
      },
      "execution_count": null,
      "outputs": [
        {
          "output_type": "stream",
          "name": "stdout",
          "text": [
            "Length of filtered eeg_label_male: 2328\n",
            "Length of filtered eeg_data_male: 2328\n",
            "2328\n",
            "194\n",
            "62\n",
            "(744, 64, 4975)\n"
          ]
        }
      ]
    },
    {
      "cell_type": "markdown",
      "source": [
        "\n",
        "# Results"
      ],
      "metadata": {
        "id": "HOzbve_P-T23"
      }
    },
    {
      "cell_type": "code",
      "source": [
        "from sklearn.model_selection import StratifiedKFold\n",
        "from sklearn.svm import SVC\n",
        "from sklearn.metrics import accuracy_score, precision_score, recall_score, f1_score, confusion_matrix\n",
        "from sklearn.utils.class_weight import compute_class_weight\n",
        "\n",
        "class EEGClassifier:\n",
        "    def __init__(self):\n",
        "        # We beginnen zonder een geïnitialiseerd model\n",
        "        self.model = SVC(C=0.4, kernel='sigmoid')\n",
        "\n",
        "    def train(self, X_train, y_train):\n",
        "        # Flatten X_train voor SVM gebruik\n",
        "        X_train_flattened = X_train.reshape(X_train.shape[0], -1)\n",
        "\n",
        "        # Bereken klasse gewichten\n",
        "        class_weights = compute_class_weight('balanced', classes=np.unique(y_train), y=y_train)\n",
        "        class_weight_dict = dict(zip(np.unique(y_train), class_weights))\n",
        "\n",
        "        # Initialiseer en train het SVM model\n",
        "        self.model = SVC(C=0.4, kernel='sigmoid', class_weight=class_weight_dict)\n",
        "        self.model.fit(X_train_flattened, y_train)\n",
        "\n",
        "    def evaluate(self, X_test, y_test):\n",
        "        # Flatten X_test voor SVM gebruik\n",
        "        X_test_flattened = X_test.reshape(X_test.shape[0], -1)\n",
        "        y_pred = self.model.predict(X_test_flattened)\n",
        "\n",
        "        return {\n",
        "            'accuracy': accuracy_score(y_test, y_pred),\n",
        "            'precision': precision_score(y_test, y_pred),\n",
        "            'recall': recall_score(y_test, y_pred),\n",
        "            'f1_score': f1_score(y_test, y_pred),\n",
        "            'confusion_matrix': confusion_matrix(y_test, y_pred)\n",
        "        }\n",
        "\n",
        "def main():\n",
        "    classifier = EEGClassifier()\n",
        "    num_splits = 5\n",
        "    cv = StratifiedKFold(n_splits=num_splits, shuffle=True, random_state=42)\n",
        "\n",
        "    for fold_idx, (train_index, val_index) in enumerate(cv.split(X_train, l), 1):\n",
        "        print(f\"Fold {fold_idx}:\")\n",
        "\n",
        "        X_train_fold = X_train[train_index]\n",
        "        y_train_fold = l[train_index]\n",
        "        X_val_fold = X_train[val_index]\n",
        "        y_val_fold = l[val_index]\n",
        "\n",
        "        classifier.train(X_train_fold, y_train_fold)\n",
        "\n",
        "        train_metrics = classifier.evaluate(X_train_fold, y_train_fold)\n",
        "        print(f'Training Results - Accuracy: {train_metrics[\"accuracy\"]}, Precision: {train_metrics[\"precision\"]}, Recall: {train_metrics[\"recall\"]}, F1 Score: {train_metrics[\"f1_score\"]}')\n",
        "\n",
        "        val_metrics = classifier.evaluate(X_val_fold, y_val_fold)\n",
        "        print(f'Validation Results - Accuracy: {val_metrics[\"accuracy\"]}, Precision: {val_metrics[\"precision\"]}, Recall: {val_metrics[\"recall\"]}, F1 Score: {val_metrics[\"f1_score\"]}')\n",
        "        print('Validation Confusion Matrix:')\n",
        "        print(val_metrics['confusion_matrix'])\n",
        "        print()\n",
        "\n",
        "if __name__ == \"__main__\":\n",
        "    main()"
      ],
      "metadata": {
        "colab": {
          "base_uri": "https://localhost:8080/"
        },
        "id": "aMsChPQu-Rru",
        "outputId": "11241e54-4b78-4e21-908c-98a1abf6d691"
      },
      "execution_count": null,
      "outputs": [
        {
          "output_type": "stream",
          "name": "stdout",
          "text": [
            "Fold 1:\n",
            "Training Results - Accuracy: 0.746218487394958, Precision: 0.8348623853211009, Recall: 0.6127946127946128, F1 Score: 0.7067961165048543\n",
            "Validation Results - Accuracy: 0.48322147651006714, Precision: 0.4782608695652174, Recall: 0.29333333333333333, F1 Score: 0.36363636363636365\n",
            "Validation Confusion Matrix:\n",
            "[[50 24]\n",
            " [53 22]]\n",
            "\n",
            "Fold 2:\n",
            "Training Results - Accuracy: 0.7966386554621848, Precision: 0.7666666666666667, Recall: 0.8518518518518519, F1 Score: 0.8070175438596491\n",
            "Validation Results - Accuracy: 0.4429530201342282, Precision: 0.45454545454545453, Recall: 0.5333333333333333, F1 Score: 0.49079754601226994\n",
            "Validation Confusion Matrix:\n",
            "[[26 48]\n",
            " [35 40]]\n",
            "\n",
            "Fold 3:\n",
            "Training Results - Accuracy: 0.7781512605042017, Precision: 0.8705357142857143, Recall: 0.6543624161073825, F1 Score: 0.7471264367816092\n",
            "Validation Results - Accuracy: 0.5302013422818792, Precision: 0.5454545454545454, Recall: 0.32432432432432434, F1 Score: 0.4067796610169491\n",
            "Validation Confusion Matrix:\n",
            "[[55 20]\n",
            " [50 24]]\n",
            "\n",
            "Fold 4:\n",
            "Training Results - Accuracy: 0.7983193277310925, Precision: 0.8272058823529411, Recall: 0.7550335570469798, F1 Score: 0.7894736842105262\n",
            "Validation Results - Accuracy: 0.5100671140939598, Precision: 0.5076923076923077, Recall: 0.44594594594594594, F1 Score: 0.4748201438848921\n",
            "Validation Confusion Matrix:\n",
            "[[43 32]\n",
            " [41 33]]\n",
            "\n",
            "Fold 5:\n",
            "Training Results - Accuracy: 0.790268456375839, Precision: 0.8559670781893004, Recall: 0.697986577181208, F1 Score: 0.7689463955637709\n",
            "Validation Results - Accuracy: 0.5135135135135135, Precision: 0.5142857142857142, Recall: 0.4864864864864865, F1 Score: 0.5\n",
            "Validation Confusion Matrix:\n",
            "[[40 34]\n",
            " [38 36]]\n",
            "\n"
          ]
        }
      ]
    },
    {
      "cell_type": "code",
      "source": [],
      "metadata": {
        "id": "bSUyoFdcfpbK"
      },
      "execution_count": null,
      "outputs": []
    }
  ],
  "metadata": {
    "colab": {
      "provenance": [],
      "machine_shape": "hm",
      "gpuType": "A100"
    },
    "kernelspec": {
      "display_name": "Python 3",
      "name": "python3"
    },
    "language_info": {
      "name": "python"
    },
    "accelerator": "GPU"
  },
  "nbformat": 4,
  "nbformat_minor": 0
}
