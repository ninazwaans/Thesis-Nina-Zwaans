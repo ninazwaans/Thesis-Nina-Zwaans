{
  "cells": [
    {
      "cell_type": "markdown",
      "source": [
        "I utilized the SVM implementation specifically tailored for EEG data from the following GitHub repository: https://github.com/jayavardhanravi/EEG-Data-predection/blob/master/mypart1.py. This resource provided invaluable support for my SVM analysis."
      ],
      "metadata": {
        "id": "ei4N7PVjTIrP"
      }
    },
    {
      "cell_type": "code",
      "execution_count": 1,
      "metadata": {
        "colab": {
          "base_uri": "https://localhost:8080/"
        },
        "id": "Kj8lCByp9dFa",
        "outputId": "4afec209-be8e-4939-969d-95d1ce51114b"
      },
      "outputs": [
        {
          "output_type": "stream",
          "name": "stdout",
          "text": [
            "Mounted at /content/drive\n"
          ]
        }
      ],
      "source": [
        "from google.colab import drive\n",
        "\n",
        "drive.mount('/content/drive')"
      ]
    },
    {
      "cell_type": "code",
      "execution_count": 2,
      "metadata": {
        "id": "OSo-YwnR-aF2"
      },
      "outputs": [],
      "source": [
        "import numpy as np\n",
        "import pandas as pd\n",
        "import os"
      ]
    },
    {
      "cell_type": "code",
      "execution_count": 3,
      "metadata": {
        "id": "Mso-NzZ19uVj"
      },
      "outputs": [],
      "source": [
        "ec_data_dir = \"/content/drive/MyDrive/TD-BRAIN/training_data/data/EC\"\n",
        "eo_data_dir = \"/content/drive/MyDrive/TD-BRAIN/training_data/data/EO\"\n",
        "ec_eeg_data = np.load(os.path.join(ec_data_dir, \"normalized_epoch_eeg_data.npy\"))\n",
        "eo_eeg_data = np.load(os.path.join(eo_data_dir, \"normalized_epoch_eeg_data.npy\"))"
      ]
    },
    {
      "cell_type": "code",
      "execution_count": 4,
      "metadata": {
        "colab": {
          "base_uri": "https://localhost:8080/"
        },
        "id": "nB1g1ok5-QKw",
        "outputId": "92999143-6502-41cd-b4bc-952a647f9e77"
      },
      "outputs": [
        {
          "output_type": "stream",
          "name": "stdout",
          "text": [
            "(4356, 1, 32, 4975)\n",
            "(4344, 1, 32, 4975)\n"
          ]
        }
      ],
      "source": [
        "print(ec_eeg_data.shape)\n",
        "print(eo_eeg_data.shape)"
      ]
    },
    {
      "cell_type": "code",
      "execution_count": 5,
      "metadata": {
        "id": "aNA3Bh_u-jvy"
      },
      "outputs": [],
      "source": [
        "ec_labels_dir = \"/content/drive/MyDrive/TD-BRAIN/training_data/data/EC\"\n",
        "eo_labels_dir = \"/content/drive/MyDrive/TD-BRAIN/training_data/data/EO\"\n",
        "ec_eeg_labels = np.load(os.path.join(ec_labels_dir, \"labels_data.npy\"))\n",
        "eo_eeg_labels = np.load(os.path.join(eo_labels_dir, \"labels_data.npy\"))"
      ]
    },
    {
      "cell_type": "code",
      "execution_count": 6,
      "metadata": {
        "colab": {
          "base_uri": "https://localhost:8080/"
        },
        "id": "GjUzGyL7_Axu",
        "outputId": "48876cfd-cd57-4900-f349-4514d12900b2"
      },
      "outputs": [
        {
          "output_type": "stream",
          "name": "stdout",
          "text": [
            "(4356, 2)\n",
            "(4344, 2)\n"
          ]
        }
      ],
      "source": [
        "print(ec_eeg_labels.shape)\n",
        "print(eo_eeg_labels.shape)"
      ]
    },
    {
      "cell_type": "code",
      "execution_count": 7,
      "metadata": {
        "id": "FP49u4sF0D0b",
        "colab": {
          "base_uri": "https://localhost:8080/"
        },
        "outputId": "811daf9a-271e-4b2b-f170-0acd442a9718"
      },
      "outputs": [
        {
          "output_type": "stream",
          "name": "stdout",
          "text": [
            "(4344, 2)\n",
            "(4344, 1, 32, 4975)\n"
          ]
        }
      ],
      "source": [
        "for label in ec_eeg_labels:\n",
        "  sample_id = label[0]\n",
        "  if sample_id not in eo_eeg_labels[:, 0]:\n",
        "        index_to_remove = np.where(ec_eeg_labels[:, 0] == sample_id)[0]\n",
        "        ec_eeg_labels = np.delete(ec_eeg_labels, index_to_remove, axis=0)\n",
        "        ec_eeg_data = np.delete(ec_eeg_data, index_to_remove, axis=0)\n",
        "print(ec_eeg_labels.shape)\n",
        "print(ec_eeg_data.shape)\n",
        "\n",
        "eeg_data = np.concatenate((ec_eeg_data[:, 0], eo_eeg_data[:, 0]), axis=1)\n",
        "eeg_data.shape\n",
        "\n",
        "eeg_labels = ec_eeg_labels"
      ]
    },
    {
      "cell_type": "code",
      "execution_count": 8,
      "metadata": {
        "id": "6o2e6442_rix",
        "colab": {
          "base_uri": "https://localhost:8080/"
        },
        "outputId": "7cf82c05-7194-4a54-f6c8-0e73861f2daf"
      },
      "outputs": [
        {
          "output_type": "stream",
          "name": "stdout",
          "text": [
            "Number of MDD participants: 3780\n",
            "Number of Healthy participants: 564\n"
          ]
        }
      ],
      "source": [
        "healthy_count, mdd_count = 0, 0\n",
        "for sample in eeg_labels:\n",
        "  if sample[1] == \"MDD\":\n",
        "      mdd_count += 1\n",
        "  else:\n",
        "      healthy_count += 1\n",
        "\n",
        "print(f\"Number of MDD participants: {mdd_count}\")\n",
        "print(f\"Number of Healthy participants: {healthy_count}\")"
      ]
    },
    {
      "cell_type": "markdown",
      "metadata": {
        "id": "VMj3gbuquMBf"
      },
      "source": [
        "#Extracting data for female participants"
      ]
    },
    {
      "cell_type": "code",
      "execution_count": 9,
      "metadata": {
        "id": "AO_353PuuLbn",
        "colab": {
          "base_uri": "https://localhost:8080/"
        },
        "outputId": "459efb8e-47dc-4ac6-9ce0-432de312bc29"
      },
      "outputs": [
        {
          "output_type": "stream",
          "name": "stdout",
          "text": [
            "(1932, 64, 4975) (1932, 2)\n"
          ]
        }
      ],
      "source": [
        "df_participants = pd.read_pickle('/content/drive/MyDrive/TD-BRAIN/TDBRAIN_participants_V2_data/df_participants.pkl')\n",
        "female_count = 0\n",
        "\n",
        "eeg_data_female = []\n",
        "eeg_label_female = []\n",
        "\n",
        "for i, labels in enumerate(eeg_labels):\n",
        "     sample_id = labels[0]\n",
        "     index = df_participants.loc[df_participants['participants_ID'] == sample_id].index\n",
        "     if [value for value in df_participants.loc[index, 'gender']][0] == 1:\n",
        "       eeg_data_female.append(eeg_data[i])\n",
        "       eeg_label_female.append(eeg_labels[i])\n",
        "\n",
        "eeg_data_female = np.array(eeg_data_female)\n",
        "eeg_label_female = np.array(eeg_label_female)\n",
        "\n",
        "print(eeg_data_female.shape, eeg_label_female.shape)"
      ]
    },
    {
      "cell_type": "code",
      "execution_count": 10,
      "metadata": {
        "id": "o_V9agNEFFYG",
        "colab": {
          "base_uri": "https://localhost:8080/"
        },
        "outputId": "b1557c9e-f930-4b74-e3e2-355f5b05121f"
      },
      "outputs": [
        {
          "output_type": "stream",
          "name": "stdout",
          "text": [
            "Number of MDD female participants: 1740\n",
            "Number of Healthy female participants: 192\n"
          ]
        }
      ],
      "source": [
        "healthy_count_female, mdd_count_female = 0, 0\n",
        "for sample in eeg_label_female:\n",
        "  if sample[1] == \"MDD\":\n",
        "      mdd_count_female += 1\n",
        "  else:\n",
        "      healthy_count_female += 1\n",
        "\n",
        "print(f\"Number of MDD female participants: {mdd_count_female}\")\n",
        "print(f\"Number of Healthy female participants: {healthy_count_female}\")"
      ]
    },
    {
      "cell_type": "markdown",
      "metadata": {
        "id": "VU0Kf2SFYNT_"
      },
      "source": [
        "# **Model**"
      ]
    },
    {
      "cell_type": "code",
      "execution_count": 11,
      "metadata": {
        "id": "b2X4KAfWcAVk"
      },
      "outputs": [],
      "source": [
        "import numpy as np\n",
        "import pandas as pd\n",
        "from sklearn.model_selection import StratifiedKFold\n",
        "from sklearn.svm import SVC\n",
        "from sklearn.metrics import accuracy_score, precision_score, recall_score, f1_score, confusion_matrix\n",
        "from sklearn.utils import resample, shuffle"
      ]
    },
    {
      "cell_type": "code",
      "execution_count": 12,
      "metadata": {
        "id": "WyCSl6BScBEJ",
        "colab": {
          "base_uri": "https://localhost:8080/"
        },
        "outputId": "1f084adc-52ef-4861-d7f1-bc2dcccfd715"
      },
      "outputs": [
        {
          "output_type": "stream",
          "name": "stdout",
          "text": [
            "Length of filtered eeg_label_female: 1920\n",
            "Length of filtered eeg_data_female: 1920\n",
            "1920\n",
            "160\n",
            "32\n",
            "(384, 64, 4975)\n"
          ]
        }
      ],
      "source": [
        "ll = eeg_label_female\n",
        "encountered_sample_ids = {}\n",
        "sample_ids_with_more_than_12_entries = []\n",
        "\n",
        "for index, sample_id in enumerate(ll):\n",
        "    sample_id_tuple = tuple(sample_id)\n",
        "    count = encountered_sample_ids.get(sample_id_tuple, 0)\n",
        "    count += 1\n",
        "    encountered_sample_ids[sample_id_tuple] = count\n",
        "    if count > 12:\n",
        "        sample_ids_with_more_than_12_entries.append((sample_id_tuple, index))\n",
        "\n",
        "indices_to_remove = [index for _, index in sample_ids_with_more_than_12_entries]\n",
        "eeg_label_female = [sample for i, sample in enumerate(eeg_label_female) if i not in indices_to_remove]\n",
        "eeg_data_female = [data for i, data in enumerate(eeg_data_female) if i not in indices_to_remove]\n",
        "print(\"Length of filtered eeg_label_female:\", len(eeg_label_female))\n",
        "print(\"Length of filtered eeg_data_female:\", len(eeg_data_female))\n",
        "\n",
        "\n",
        "###### Undersampling and preparing training data ########\n",
        "ll = eeg_label_female\n",
        "unique_sample_id = []\n",
        "encountered_sample_ids = set()\n",
        "print(len(ll))\n",
        "for sample_id in ll:\n",
        "    sample_id_tuple = tuple(sample_id)\n",
        "    if sample_id_tuple not in encountered_sample_ids:\n",
        "        unique_sample_id.append(sample_id)\n",
        "        encountered_sample_ids.add(sample_id_tuple)\n",
        "print(len(unique_sample_id))\n",
        "\n",
        "num_samples_minority = 16\n",
        "indices_maj = [index for index, sample in enumerate(unique_sample_id) if sample[1] == \"MDD\"]\n",
        "indices_min = [index for index, sample in enumerate(unique_sample_id) if sample[1] == \"HEALTHY\"]\n",
        "undersampled = np.random.choice(indices_maj, num_samples_minority, replace=False)\n",
        "\n",
        "balanced_data_indices = np.concatenate([indices_min, undersampled])\n",
        "# print(unique_sample_id)\n",
        "balanced_unique_sample_id = [unique_sample_id[i] for i in balanced_data_indices]\n",
        "\n",
        "# Extract all unique sample IDs from train_unique_sample_id\n",
        "unique_sample_ids = [sample_id[0] for sample_id in balanced_unique_sample_id]\n",
        "print(len(unique_sample_ids))\n",
        "# Extract all indices from eeg_labels for sample IDs in train_unique_sample_id\n",
        "indices = []\n",
        "for i, sample_id in enumerate(eeg_label_female):\n",
        "  # print(sample_id[0])\n",
        "  if sample_id[0] in unique_sample_ids:\n",
        "        indices.append(i)\n",
        "\n",
        "# Convert indices to a NumPy array\n",
        "indices = np.array(indices)\n",
        "X_train = []\n",
        "y_train = []\n",
        "for i in indices:\n",
        "    X_train.append(eeg_data_female[i])\n",
        "    y_train.append(eeg_label_female[i])\n",
        "\n",
        "X_train = np.array(X_train)\n",
        "y_train = np.array(y_train)\n",
        "\n",
        "# Shuffle together with their indices\n",
        "permutation = np.random.permutation(len(X_train))\n",
        "X_train = X_train[permutation]\n",
        "y_train = y_train[permutation]\n",
        "\n",
        "print(X_train.shape)\n",
        "# print(y_train)\n",
        "\n",
        "sample_ids = []\n",
        "for sample in y_train:\n",
        "  sample_ids.append(sample[0])\n",
        "sample_ids = np.array(sample_ids)\n",
        "l = np.array([1 if label[1] == \"MDD\" else 0 for label in y_train])"
      ]
    },
    {
      "cell_type": "markdown",
      "metadata": {
        "id": "-YePAc3t2RgS"
      },
      "source": [
        "# Results"
      ]
    },
    {
      "cell_type": "code",
      "source": [
        "import numpy as np\n",
        "from sklearn.model_selection import train_test_split, StratifiedKFold\n",
        "from sklearn.metrics import accuracy_score, precision_score, recall_score, f1_score, confusion_matrix\n",
        "from keras.models import Sequential\n",
        "from keras.layers import Conv1D, MaxPooling1D, LSTM, Dense, Dropout, BatchNormalization\n",
        "from keras.metrics import Precision, Recall\n",
        "import matplotlib.pyplot as plt\n",
        "\n",
        "class EEGClassifier:\n",
        "    def __init__(self, input_shape=(64, 4975), lstm_units=64):\n",
        "        self.input_shape = input_shape\n",
        "        self.lstm_units = lstm_units\n",
        "        self.model = self.build_model()\n",
        "\n",
        "    def build_model(self):\n",
        "        model = Sequential()\n",
        "        model.add(Conv1D(filters=32, kernel_size=4, activation='relu', input_shape=self.input_shape))\n",
        "        model.add(MaxPooling1D(pool_size=2))\n",
        "        model.add(LSTM(units=128, return_sequences=True))\n",
        "        model.add(BatchNormalization())\n",
        "        model.add(Dropout(0.2))\n",
        "        model.add(LSTM(units=self.lstm_units))\n",
        "        model.add(BatchNormalization())\n",
        "        model.add(Dropout(0.2))\n",
        "        model.add(Dense(units=64, activation='sigmoid'))\n",
        "        model.add(Dense(units=1, activation='sigmoid'))\n",
        "        model.compile(loss='binary_crossentropy', optimizer='adam', metrics=['accuracy', Precision(), Recall()])\n",
        "        return model\n",
        "\n",
        "    def train(self, X_train, y_train, X_val, y_val, epochs=20, batch_size=1):\n",
        "        class_weights = {0: 1, 1: 1}  # Initialize with equal weights\n",
        "        num_minority = np.sum(y_train == 0)\n",
        "        num_majority = np.sum(y_train == 1)\n",
        "        total_samples = len(y_train)\n",
        "        class_weights[0] = (1 / num_minority) * (total_samples / 2.0)\n",
        "        class_weights[1] = (1 / num_majority) * (total_samples / 2.0)\n",
        "\n",
        "        history = self.model.fit(X_train, y_train, epochs=epochs, batch_size=batch_size, validation_data=(X_val, y_val), class_weight=class_weights, verbose=0)\n",
        "        return history\n",
        "\n",
        "    def evaluate(self, X_test, y_test):\n",
        "        loss, accuracy, precision, recall = self.model.evaluate(X_test, y_test, verbose=0)\n",
        "        y_pred = self.model.predict(X_test)\n",
        "        y_pred_classes = np.round(y_pred)\n",
        "        f1 = f1_score(y_test, y_pred_classes)\n",
        "        cm = confusion_matrix(y_test, y_pred_classes)\n",
        "        evaluation_metrics = {\n",
        "            'loss': loss,\n",
        "            'accuracy': accuracy,\n",
        "            'precision': precision,\n",
        "            'recall': recall,\n",
        "            'f1_score': f1,\n",
        "            'confusion_matrix': cm\n",
        "        }\n",
        "        return evaluation_metrics\n",
        "\n",
        "    def plot_loss(self, history):\n",
        "        plt.plot(history.history['loss'], label='Training Loss')\n",
        "        plt.plot(history.history['val_loss'], label='Validation Loss')\n",
        "        plt.title('Training and Validation Loss')\n",
        "        plt.xlabel('Epochs')\n",
        "        plt.ylabel('Loss')\n",
        "        plt.legend()\n",
        "        plt.show()\n",
        "\n",
        "def main():\n",
        "    global X, y\n",
        "    df_participants = pd.read_pickle('/content/drive/MyDrive/TD-BRAIN/TDBRAIN_participants_V2_data/df_participants.pkl')\n",
        "    female_count = 0\n",
        "\n",
        "    eeg_data_female = []\n",
        "    eeg_label_female = []\n",
        "\n",
        "    for i, labels in enumerate(eeg_labels):\n",
        "      sample_id = labels[0]\n",
        "      index = df_participants.loc[df_participants['participants_ID'] == sample_id].index\n",
        "      if [value for value in df_participants.loc[index, 'gender']][0] == 1:\n",
        "        eeg_data_female.append(eeg_data[i])\n",
        "        eeg_label_female.append(eeg_labels[i])\n",
        "\n",
        "    eeg_data_female = np.array(eeg_data_female)\n",
        "    eeg_label_female = np.array(eeg_label_female)\n",
        "\n",
        "    print(eeg_data_female.shape, eeg_label_female.shape)\n",
        "\n",
        "    # Step 1: Filter out entries with more than 12 instances\n",
        "    ll = eeg_label_female\n",
        "    encountered_sample_ids = {}\n",
        "    sample_ids_with_more_than_12_entries = []\n",
        "\n",
        "    for index, sample_id in enumerate(ll):\n",
        "        sample_id_tuple = tuple(sample_id)\n",
        "        count = encountered_sample_ids.get(sample_id_tuple, 0)\n",
        "        count += 1\n",
        "        encountered_sample_ids[sample_id_tuple] = count\n",
        "        if count > 12:\n",
        "            sample_ids_with_more_than_12_entries.append((sample_id_tuple, index))\n",
        "\n",
        "    indices_to_remove = [index for _, index in sample_ids_with_more_than_12_entries]\n",
        "    eeg_label_female = [sample for i, sample in enumerate(eeg_label_female) if i not in indices_to_remove]\n",
        "    eeg_data_female = [data for i, data in enumerate(eeg_data_female) if i not in indices_to_remove]\n",
        "    print(\"Length of filtered eeg_label_female:\", len(eeg_label_female))\n",
        "    print(\"Length of filtered eeg_data_female:\", len(eeg_data_female))\n",
        "\n",
        "    # Step 2: Undersampling and preparing training data\n",
        "    ll = eeg_label_female\n",
        "    unique_sample_id = []\n",
        "    encountered_sample_ids = set()\n",
        "    print(len(ll))\n",
        "    for sample_id in ll:\n",
        "        sample_id_tuple = tuple(sample_id)\n",
        "        if sample_id_tuple not in encountered_sample_ids:\n",
        "            unique_sample_id.append(sample_id)\n",
        "            encountered_sample_ids.add(sample_id_tuple)\n",
        "    print(len(unique_sample_id))\n",
        "\n",
        "    num_samples_minority = 16\n",
        "    indices_maj = [index for index, sample in enumerate(unique_sample_id) if sample[1] == \"MDD\"]\n",
        "    indices_min = [index for index, sample in enumerate(unique_sample_id) if sample[1] == \"HEALTHY\"]\n",
        "    undersampled = np.random.choice(indices_maj, num_samples_minority, replace=False)\n",
        "\n",
        "    balanced_data_indices = np.concatenate([indices_min, undersampled])\n",
        "    balanced_unique_sample_id = [unique_sample_id[i] for i in balanced_data_indices]\n",
        "\n",
        "    # Extract all unique sample IDs from balanced_unique_sample_id\n",
        "    unique_sample_ids = [sample_id[0] for sample_id in balanced_unique_sample_id]\n",
        "    print(len(unique_sample_ids))\n",
        "    # Extract all indices from eeg_label_female for sample IDs in balanced_unique_sample_id\n",
        "    indices = []\n",
        "    for i, sample_id in enumerate(eeg_label_female):\n",
        "        if sample_id[0] in unique_sample_ids:\n",
        "            indices.append(i)\n",
        "\n",
        "    # Convert indices to a NumPy array\n",
        "    indices = np.array(indices)\n",
        "    X = np.array([eeg_data_female[i] for i in indices])\n",
        "    y = np.array([1 if label[1] == \"MDD\" else 0 for label in eeg_label_female if label[0] in unique_sample_ids])\n",
        "\n",
        "    # Shuffle together with their indices\n",
        "    permutation = np.random.permutation(len(X))\n",
        "    X = X[permutation]\n",
        "    y = y[permutation]\n",
        "\n",
        "    print(X.shape)\n",
        "\n",
        "    # Split the data into training, validation, and test sets\n",
        "    X_temp, X_test, y_temp, y_test = train_test_split(X, y, test_size=0.2, stratify=y, random_state=42)\n",
        "    X_train, X_val, y_train, y_val = train_test_split(X_temp, y_temp, test_size=0.25, stratify=y_temp, random_state=42)\n",
        "\n",
        "    classifier = EEGClassifier()\n",
        "\n",
        "    num_splits = 5\n",
        "    cv = StratifiedKFold(n_splits=num_splits, shuffle=True, random_state=42)\n",
        "\n",
        "    val_accuracies = []\n",
        "    val_precisions = []\n",
        "    val_recalls = []\n",
        "    val_f1_scores = []\n",
        "    val_confusion_matrices = []\n",
        "\n",
        "    for fold_idx, (train_index, val_index) in enumerate(cv.split(X_train, y_train), 1):\n",
        "        print(f\"Fold {fold_idx}:\")\n",
        "\n",
        "        X_train_fold = X_train[train_index]\n",
        "        y_train_fold = y_train[train_index]\n",
        "        X_val_fold = X_train[val_index]\n",
        "        y_val_fold = y_train[val_index]\n",
        "\n",
        "        history = classifier.train(X_train_fold, y_train_fold, X_val_fold, y_val_fold)\n",
        "\n",
        "        train_metrics = classifier.evaluate(X_train_fold, y_train_fold)\n",
        "        print(f'Training Results - Loss: {train_metrics[\"loss\"]}, Accuracy: {train_metrics[\"accuracy\"]}, '\n",
        "              f'Precision: {train_metrics[\"precision\"]}, Recall: {train_metrics[\"recall\"]}, '\n",
        "              f'F1 Score: {train_metrics[\"f1_score\"]}')\n",
        "\n",
        "        val_metrics = classifier.evaluate(X_val_fold, y_val_fold)\n",
        "        print(f'Validation Results - Loss: {val_metrics[\"loss\"]}, Accuracy: {val_metrics[\"accuracy\"]}, '\n",
        "              f'Precision: {val_metrics[\"precision\"]}, Recall: {val_metrics[\"recall\"]}, '\n",
        "              f'F1 Score: {val_metrics[\"f1_score\"]}')\n",
        "        print('Validation Confusion Matrix:')\n",
        "        print(val_metrics['confusion_matrix'])\n",
        "        print()\n",
        "\n",
        "        val_accuracies.append(val_metrics[\"accuracy\"])\n",
        "        val_precisions.append(val_metrics[\"precision\"])\n",
        "        val_recalls.append(val_metrics[\"recall\"])\n",
        "        val_f1_scores.append(val_metrics[\"f1_score\"])\n",
        "        val_confusion_matrices.append(val_metrics[\"confusion_matrix\"])\n",
        "\n",
        "    # Calculate average validation metrics\n",
        "    avg_val_accuracy = np.mean(val_accuracies)\n",
        "    avg_val_precision = np.mean(val_precisions)\n",
        "    avg_val_recall = np.mean(val_recalls)\n",
        "    avg_val_f1_score = np.mean(val_f1_scores)\n",
        "    avg_val_confusion_matrix = np.mean(val_confusion_matrices, axis=0)\n",
        "\n",
        "    print(f'Average Validation Accuracy: {avg_val_accuracy}')\n",
        "    print(f'Average Validation Precision: {avg_val_precision}')\n",
        "    print(f'Average Validation Recall: {avg_val_recall}')\n",
        "    print(f'Average Validation F1 Score: {avg_val_f1_score}')\n",
        "    print(f'Average Validation Confusion Matrix: \\n{avg_val_confusion_matrix}')\n",
        "\n",
        "    # Evaluate on the test set\n",
        "    test_metrics = classifier.evaluate(X_test, y_test)\n",
        "    print(f'Test Results - Accuracy: {test_metrics[\"accuracy\"]}, Precision: {test_metrics[\"precision\"]}, '\n",
        "          f'Recall: {test_metrics[\"recall\"]}, F1 Score: {test_metrics[\"f1_score\"]}')\n",
        "    print('Test Confusion Matrix:')\n",
        "    print(test_metrics['confusion_matrix'])\n",
        "\n",
        "if __name__ == \"__main__\":\n",
        "    main()\n"
      ],
      "metadata": {
        "id": "cpqCw3auJOVF",
        "colab": {
          "base_uri": "https://localhost:8080/"
        },
        "outputId": "c97bd9f7-e3c0-4066-a811-dc0504a6c577"
      },
      "execution_count": 22,
      "outputs": [
        {
          "output_type": "stream",
          "name": "stdout",
          "text": [
            "(1932, 64, 4975) (1932, 2)\n",
            "Length of filtered eeg_label_female: 1920\n",
            "Length of filtered eeg_data_female: 1920\n",
            "1920\n",
            "160\n",
            "32\n",
            "(384, 64, 4975)\n",
            "Fold 1:\n",
            "6/6 [==============================] - 1s 16ms/step\n",
            "Training Results - Loss: 0.730476975440979, Accuracy: 0.5276873111724854, Precision: 0.5279502868652344, Recall: 0.551948070526123, F1 Score: 0.5396825396825397\n",
            "2/2 [==============================] - 0s 11ms/step\n",
            "Validation Results - Loss: 0.7136221528053284, Accuracy: 0.5194805264472961, Precision: 0.5151515007019043, Recall: 0.44736841320991516, F1 Score: 0.4788732394366197\n",
            "Validation Confusion Matrix:\n",
            "[[20  12]\n",
            " [18 12]]\n",
            "\n",
            "Fold 2:\n",
            "6/6 [==============================] - 0s 18ms/step\n",
            "Training Results - Loss: 0.7140184044837952, Accuracy: 0.5179153084754944, Precision: 0.5306122303009033, Recall: 0.33766233921051025, F1 Score: 0.4126984126984127\n",
            "2/2 [==============================] - 0s 12ms/step\n",
            "Validation Results - Loss: 0.7472937703132629, Accuracy: 0.41558441519737244, Precision: 0.37037035822868347, Recall: 0.2631579041481018, F1 Score: 0.30769230769230765\n",
            "Validation Confusion Matrix:\n",
            "[[21 7]\n",
            " [29 4]]\n",
            "\n",
            "Fold 3:\n",
            "6/6 [==============================] - 0s 17ms/step\n",
            "Training Results - Loss: 0.7454760670661926, Accuracy: 0.45928338170051575, Precision: 0.451127827167511, Recall: 0.3921568691730499, F1 Score: 0.41958041958041964\n",
            "2/2 [==============================] - 0s 12ms/step\n",
            "Validation Results - Loss: 0.7069993019104004, Accuracy: 0.48051947355270386, Precision: 0.48275861144065857, Recall: 0.3589743673801422, F1 Score: 0.4117647058823529\n",
            "Validation Confusion Matrix:\n",
            "[[21 8]\n",
            " [ 23 8]]\n",
            "\n",
            "Fold 4:\n",
            "6/6 [==============================] - 0s 17ms/step\n",
            "Training Results - Loss: 0.7070327401161194, Accuracy: 0.49837133288383484, Precision: 0.4957983195781708, Recall: 0.38562092185020447, F1 Score: 0.4338235294117647\n",
            "2/2 [==============================] - 0s 12ms/step\n",
            "Validation Results - Loss: 0.7195578217506409, Accuracy: 0.4545454680919647, Precision: 0.45945945382118225, Recall: 0.43589743971824646, F1 Score: 0.4473684210526316\n",
            "Validation Confusion Matrix:\n",
            "[[16  14]\n",
            " [20  12]]\n",
            "\n",
            "Fold 5:\n",
            "6/6 [==============================] - 0s 17ms/step\n",
            "Training Results - Loss: 0.7253627777099609, Accuracy: 0.49025973677635193, Precision: 0.4769230782985687, Recall: 0.20129869878292084, F1 Score: 0.2831050228310502\n",
            "2/2 [==============================] - 0s 12ms/step\n",
            "Validation Results - Loss: 0.7219962477684021, Accuracy: 0.5657894611358643, Precision: 0.6666666865348816, Recall: 0.2631579041481018, F1 Score: 0.3773584905660377\n",
            "Validation Confusion Matrix:\n",
            "[[30 2]\n",
            " [24 4]]\n",
            "\n",
            "Average Validation Accuracy: 0.48765650100708\n",
            "Average Validation Precision: 0.4981655578136444\n",
            "Average Validation Recall: 0.35377825050354006\n",
            "Average Validation F1 Score: 0.40464855894855897\n",
            "Average Validation Confusion Matrix: \n",
            "[[21.6  8.6]\n",
            " [22.8 8.0]]\n",
            "3/3 [==============================] - 0s 13ms/step\n",
            "Test Results - Accuracy: 0.4935064911842346, Precision: 0.48571428656578064, Recall: 0.44736841320991516, F1 Score: 0.4657534246575342\n",
            "Test Confusion Matrix:\n",
            "[[21 18]\n",
            " [21 17]]\n"
          ]
        }
      ]
    },
    {
      "cell_type": "code",
      "source": [],
      "metadata": {
        "id": "k0IjSBc5gFHT"
      },
      "execution_count": null,
      "outputs": []
    }
  ],
  "metadata": {
    "accelerator": "GPU",
    "colab": {
      "gpuType": "T4",
      "machine_shape": "hm",
      "provenance": []
    },
    "kernelspec": {
      "display_name": "Python 3",
      "name": "python3"
    },
    "language_info": {
      "name": "python"
    }
  },
  "nbformat": 4,
  "nbformat_minor": 0
}
