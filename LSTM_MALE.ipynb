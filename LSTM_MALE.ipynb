{
  "cells": [
    {
      "cell_type": "markdown",
      "source": [
        "I utilized the SVM implementation specifically tailored for EEG data from the following GitHub repository: https://github.com/jayavardhanravi/EEG-Data-predection/blob/master/mypart1.py. This resource provided invaluable support for my SVM analysis."
      ],
      "metadata": {
        "id": "nuNFuM4RS-q5"
      }
    },
    {
      "cell_type": "code",
      "execution_count": null,
      "metadata": {
        "id": "Kj8lCByp9dFa",
        "colab": {
          "base_uri": "https://localhost:8080/"
        },
        "outputId": "ede21905-c929-4b3c-bcf5-38d2921ec44b"
      },
      "outputs": [
        {
          "output_type": "stream",
          "name": "stdout",
          "text": [
            "Mounted at /content/drive\n"
          ]
        }
      ],
      "source": [
        "from google.colab import drive\n",
        "\n",
        "drive.mount('/content/drive')"
      ]
    },
    {
      "cell_type": "code",
      "execution_count": null,
      "metadata": {
        "id": "OSo-YwnR-aF2"
      },
      "outputs": [],
      "source": [
        "import numpy as np\n",
        "import pandas as pd\n",
        "import os"
      ]
    },
    {
      "cell_type": "code",
      "execution_count": null,
      "metadata": {
        "id": "Mso-NzZ19uVj"
      },
      "outputs": [],
      "source": [
        "ec_data_dir = \"/content/drive/MyDrive/TD-BRAIN/training_data/data/EC\"\n",
        "eo_data_dir = \"/content/drive/MyDrive/TD-BRAIN/training_data/data/EO\"\n",
        "ec_eeg_data = np.load(os.path.join(ec_data_dir, \"normalized_epoch_eeg_data.npy\"))\n",
        "eo_eeg_data = np.load(os.path.join(eo_data_dir, \"normalized_epoch_eeg_data.npy\"))"
      ]
    },
    {
      "cell_type": "code",
      "execution_count": null,
      "metadata": {
        "id": "nB1g1ok5-QKw",
        "colab": {
          "base_uri": "https://localhost:8080/"
        },
        "outputId": "e5203fb1-fcdb-4de7-b0f1-ab770a19b2cd"
      },
      "outputs": [
        {
          "output_type": "stream",
          "name": "stdout",
          "text": [
            "(4356, 1, 32, 4975)\n",
            "(4344, 1, 32, 4975)\n"
          ]
        }
      ],
      "source": [
        "print(ec_eeg_data.shape)\n",
        "print(eo_eeg_data.shape)"
      ]
    },
    {
      "cell_type": "code",
      "execution_count": null,
      "metadata": {
        "id": "aNA3Bh_u-jvy"
      },
      "outputs": [],
      "source": [
        "ec_labels_dir = \"/content/drive/MyDrive/TD-BRAIN/training_data/data/EC\"\n",
        "eo_labels_dir = \"/content/drive/MyDrive/TD-BRAIN/training_data/data/EO\"\n",
        "ec_eeg_labels = np.load(os.path.join(ec_labels_dir, \"labels_data.npy\"))\n",
        "eo_eeg_labels = np.load(os.path.join(eo_labels_dir, \"labels_data.npy\"))"
      ]
    },
    {
      "cell_type": "code",
      "source": [
        "for label in ec_eeg_labels:\n",
        "  sample_id = label[0]\n",
        "  if sample_id not in eo_eeg_labels[:, 0]:\n",
        "        index_to_remove = np.where(ec_eeg_labels[:, 0] == sample_id)[0]\n",
        "        ec_eeg_labels = np.delete(ec_eeg_labels, index_to_remove, axis=0)\n",
        "        ec_eeg_data = np.delete(ec_eeg_data, index_to_remove, axis=0)\n",
        "print(ec_eeg_labels.shape)\n",
        "print(ec_eeg_data.shape)\n",
        "\n",
        "eeg_data = np.concatenate((ec_eeg_data[:, 0], eo_eeg_data[:, 0]), axis=1)\n",
        "eeg_data.shape\n",
        "\n",
        "eeg_labels = ec_eeg_labels"
      ],
      "metadata": {
        "id": "d1v3uScQzsKo",
        "colab": {
          "base_uri": "https://localhost:8080/"
        },
        "outputId": "30012403-9fcd-4b33-8944-d5c1355e8272"
      },
      "execution_count": null,
      "outputs": [
        {
          "output_type": "stream",
          "name": "stdout",
          "text": [
            "(4344, 2)\n",
            "(4344, 1, 32, 4975)\n"
          ]
        }
      ]
    },
    {
      "cell_type": "code",
      "source": [
        "healthy_count, mdd_count = 0, 0\n",
        "for sample in eeg_labels:\n",
        "  if sample[1] == \"MDD\":\n",
        "      mdd_count += 1\n",
        "  else:\n",
        "      healthy_count += 1\n",
        "\n",
        "print(f\"Number of MDD participants: {mdd_count}\")\n",
        "print(f\"Number of Healthy participants: {healthy_count}\")"
      ],
      "metadata": {
        "id": "6o2e6442_rix",
        "colab": {
          "base_uri": "https://localhost:8080/"
        },
        "outputId": "b7aafb29-f577-4313-8226-91f94f43c311"
      },
      "execution_count": null,
      "outputs": [
        {
          "output_type": "stream",
          "name": "stdout",
          "text": [
            "Number of MDD participants: 3780\n",
            "Number of Healthy participants: 564\n"
          ]
        }
      ]
    },
    {
      "cell_type": "markdown",
      "source": [
        "## Extracting data for male participants"
      ],
      "metadata": {
        "id": "QAhX7NtQyQWR"
      }
    },
    {
      "cell_type": "code",
      "source": [
        "df_participants = pd.read_pickle('/content/drive/MyDrive/TD-BRAIN/TDBRAIN_participants_V2_data/df_participants.pkl')\n",
        "male_count = 0\n",
        "\n",
        "eeg_data_male = []\n",
        "eeg_label_male = []\n",
        "\n",
        "for i, labels in enumerate(eeg_labels):\n",
        "     sample_id = labels[0]\n",
        "     index = df_participants.loc[df_participants['participants_ID'] == sample_id].index\n",
        "     if [value for value in df_participants.loc[index, 'gender']][0] == 0:\n",
        "       eeg_data_male.append(eeg_data[i])\n",
        "       eeg_label_male.append(eeg_labels[i])\n",
        "\n",
        "eeg_data_male = np.array(eeg_data_male)\n",
        "eeg_label_male = np.array(eeg_label_male)\n",
        "\n",
        "print(eeg_data_male.shape, eeg_label_male.shape)"
      ],
      "metadata": {
        "id": "_IHvvgO8ySbU",
        "colab": {
          "base_uri": "https://localhost:8080/"
        },
        "outputId": "99860976-4fe2-4e9c-a074-6b4f37965410"
      },
      "execution_count": null,
      "outputs": [
        {
          "output_type": "stream",
          "name": "stdout",
          "text": [
            "(2412, 64, 4975) (2412, 2)\n"
          ]
        }
      ]
    },
    {
      "cell_type": "code",
      "source": [
        "healthy_count_male, mdd_count_male = 0, 0\n",
        "for sample in eeg_label_male:\n",
        "  if sample[1] == \"MDD\":\n",
        "      mdd_count_male += 1\n",
        "  else:\n",
        "      healthy_count_male += 1\n",
        "\n",
        "print(f\"Number of MDD male participants: {mdd_count_male}\")\n",
        "print(f\"Number of Healthy male participants: {healthy_count_male}\")"
      ],
      "metadata": {
        "id": "PhMZBTvGyVzA",
        "colab": {
          "base_uri": "https://localhost:8080/"
        },
        "outputId": "2da1c993-e9d2-45c5-b063-b0f660af8e24"
      },
      "execution_count": null,
      "outputs": [
        {
          "output_type": "stream",
          "name": "stdout",
          "text": [
            "Number of MDD male participants: 2040\n",
            "Number of Healthy male participants: 372\n"
          ]
        }
      ]
    },
    {
      "cell_type": "markdown",
      "source": [
        "# Model"
      ],
      "metadata": {
        "id": "cVNdw48fyW6U"
      }
    },
    {
      "cell_type": "code",
      "source": [
        "import numpy as np\n",
        "import pandas as pd\n",
        "from sklearn.model_selection import StratifiedKFold\n",
        "from sklearn.svm import SVC\n",
        "from sklearn.metrics import accuracy_score, precision_score, recall_score, f1_score, confusion_matrix\n",
        "from sklearn.utils import resample, shuffle"
      ],
      "metadata": {
        "id": "ooVsQm5nycAU"
      },
      "execution_count": null,
      "outputs": []
    },
    {
      "cell_type": "code",
      "source": [
        "ll = eeg_label_male\n",
        "encountered_sample_ids = {}\n",
        "sample_ids_with_more_than_12_entries = []\n",
        "\n",
        "for index, sample_id in enumerate(ll):\n",
        "    sample_id_tuple = tuple(sample_id)\n",
        "    count = encountered_sample_ids.get(sample_id_tuple, 0)\n",
        "    count += 1\n",
        "    encountered_sample_ids[sample_id_tuple] = count\n",
        "    if count > 12:\n",
        "        sample_ids_with_more_than_12_entries.append((sample_id_tuple, index))\n",
        "\n",
        "indices_to_remove = [index for _, index in sample_ids_with_more_than_12_entries]\n",
        "eeg_label_male = [sample for i, sample in enumerate(eeg_label_male) if i not in indices_to_remove]\n",
        "eeg_data_male = [data for i, data in enumerate(eeg_data_male) if i not in indices_to_remove]\n",
        "print(\"Length of filtered eeg_label_male:\", len(eeg_label_male))\n",
        "print(\"Length of filtered eeg_data_male:\", len(eeg_data_male))\n",
        "\n",
        "\n",
        "###### Undersampling and preparing training data ########\n",
        "ll = eeg_label_male\n",
        "unique_sample_id = []\n",
        "encountered_sample_ids = set()\n",
        "print(len(ll))\n",
        "for sample_id in ll:\n",
        "    sample_id_tuple = tuple(sample_id)\n",
        "    if sample_id_tuple not in encountered_sample_ids:\n",
        "        unique_sample_id.append(sample_id)\n",
        "        encountered_sample_ids.add(sample_id_tuple)\n",
        "print(len(unique_sample_id))\n",
        "\n",
        "num_samples_minority = 31\n",
        "indices_maj = [index for index, sample in enumerate(unique_sample_id) if sample[1] == \"MDD\"]\n",
        "indices_min = [index for index, sample in enumerate(unique_sample_id) if sample[1] == \"HEALTHY\"]\n",
        "undersampled = np.random.choice(indices_maj, num_samples_minority, replace=False)\n",
        "\n",
        "balanced_data_indices = np.concatenate([indices_min, undersampled])\n",
        "balanced_unique_sample_id = [unique_sample_id[i] for i in balanced_data_indices]\n",
        "\n",
        "# Extract all unique sample IDs from balanced_unique_sample_id\n",
        "unique_sample_ids = [sample_id[0] for sample_id in balanced_unique_sample_id]\n",
        "print(len(unique_sample_ids))\n",
        "# Extract all indices from eeg_label_male for sample IDs in balanced_unique_sample_id\n",
        "indices = []\n",
        "for i, sample_id in enumerate(eeg_label_male):\n",
        "  if sample_id[0] in unique_sample_ids:\n",
        "        indices.append(i)\n",
        "\n",
        "# Convert indices to a NumPy array\n",
        "indices = np.array(indices)\n",
        "X_train = []\n",
        "y_train = []\n",
        "for i in indices:\n",
        "    X_train.append(eeg_data_male[i])\n",
        "    y_train.append(eeg_label_male[i])\n",
        "\n",
        "X_train = np.array(X_train)\n",
        "y_train = np.array(y_train)\n",
        "\n",
        "# Shuffle together with their indices\n",
        "permutation = np.random.permutation(len(X_train))\n",
        "X_train = X_train[permutation]\n",
        "y_train = y_train[permutation]\n",
        "\n",
        "print(X_train.shape)\n",
        "# print(y_train)\n",
        "\n",
        "sample_ids = []\n",
        "for sample in y_train:\n",
        "  sample_ids.append(sample[0])\n",
        "sample_ids = np.array(sample_ids)\n",
        "l = np.array([1 if label[1] == \"MDD\" else 0 for label in y_train])\n"
      ],
      "metadata": {
        "id": "OXBgLS_Ku0BV",
        "colab": {
          "base_uri": "https://localhost:8080/"
        },
        "outputId": "35875871-023d-4807-e095-8c90a214cf50"
      },
      "execution_count": null,
      "outputs": [
        {
          "output_type": "stream",
          "name": "stdout",
          "text": [
            "Length of filtered eeg_label_male: 2328\n",
            "Length of filtered eeg_data_male: 2328\n",
            "2328\n",
            "194\n",
            "62\n",
            "(744, 64, 4975)\n"
          ]
        }
      ]
    },
    {
      "cell_type": "markdown",
      "source": [
        "\n",
        "# Results"
      ],
      "metadata": {
        "id": "HOzbve_P-T23"
      }
    },
    {
      "cell_type": "code",
      "source": [
        "import numpy as np\n",
        "import pandas as pd\n",
        "from sklearn.model_selection import train_test_split, StratifiedKFold\n",
        "from sklearn.metrics import f1_score, confusion_matrix, precision_score, recall_score\n",
        "from keras.models import Sequential\n",
        "from keras.layers import LSTM, Dropout, BatchNormalization, Dense\n",
        "from keras.metrics import Precision, Recall\n",
        "import matplotlib.pyplot as plt\n",
        "\n",
        "class EEGClassifier:\n",
        "    def __init__(self, input_shape=(64, 4975), lstm_units=128):\n",
        "        self.input_shape = input_shape\n",
        "        self.lstm_units = lstm_units\n",
        "        self.model = self.build_model()\n",
        "\n",
        "    def build_model(self):\n",
        "        model = Sequential()\n",
        "        model.add(LSTM(units=self.lstm_units, input_shape=self.input_shape, return_sequences=True))\n",
        "        model.add(Dropout(0.2))\n",
        "        model.add(BatchNormalization())\n",
        "        model.add(LSTM(units=64, return_sequences=True))\n",
        "        model.add(Dropout(0.2))\n",
        "        model.add(LSTM(units=32))\n",
        "        model.add(Dropout(0.2))\n",
        "        model.add(Dense(units=64, activation='sigmoid'))\n",
        "        model.add(Dropout(0.2))\n",
        "        model.add(Dense(units=1, activation='sigmoid'))\n",
        "        model.compile(loss='binary_crossentropy', optimizer='adam', metrics=['accuracy', Precision(), Recall()])\n",
        "        return model\n",
        "\n",
        "    def train(self, X_train, y_train, X_val, y_val, epochs=5, batch_size=1):\n",
        "        class_weights = {0: 1, 1: 1}\n",
        "        num_minority = np.sum(y_train == 0)\n",
        "        num_majority = np.sum(y_train == 1)\n",
        "        total_samples = len(y_train)\n",
        "        class_weights[0] = (1 / num_minority) * (total_samples / 2.0)\n",
        "        class_weights[1] = (1 / num_majority) * (total_samples / 2.0)\n",
        "        history = self.model.fit(X_train, y_train, epochs=epochs, batch_size=batch_size, validation_data=(X_val, y_val), class_weight=class_weights, verbose=0)\n",
        "        return history\n",
        "\n",
        "    def evaluate(self, X_test, y_test):\n",
        "        loss, accuracy, precision, recall = self.model.evaluate(X_test, y_test, verbose=0)\n",
        "        y_pred = self.model.predict(X_test)\n",
        "        y_pred_classes = np.round(y_pred)\n",
        "        f1 = f1_score(y_test, y_pred_classes)\n",
        "        cm = confusion_matrix(y_test, y_pred_classes)\n",
        "        evaluation_metrics = {\n",
        "            'loss': loss,\n",
        "            'accuracy': accuracy,\n",
        "            'precision': precision,\n",
        "            'recall': recall,\n",
        "            'f1_score': f1,\n",
        "            'confusion_matrix': cm\n",
        "        }\n",
        "        return evaluation_metrics\n",
        "\n",
        "    def plot_loss(self, history):\n",
        "        plt.plot(history.history['loss'], label='Training Loss')\n",
        "        plt.plot(history.history['val_loss'], label='Validation Loss')\n",
        "        plt.title('Training and Validation Loss')\n",
        "        plt.xlabel('Epochs')\n",
        "        plt.ylabel('Loss')\n",
        "        plt.legend()\n",
        "        plt.show()\n",
        "\n",
        "def main():\n",
        "    global X, y\n",
        "    df_participants = pd.read_pickle('/content/drive/MyDrive/TD-BRAIN/TDBRAIN_participants_V2_data/df_participants.pkl')\n",
        "    male_count = 0\n",
        "\n",
        "    eeg_data_male = []\n",
        "    eeg_label_male = []\n",
        "\n",
        "    for i, labels in enumerate(eeg_labels):\n",
        "      sample_id = labels[0]\n",
        "      index = df_participants.loc[df_participants['participants_ID'] == sample_id].index\n",
        "      if [value for value in df_participants.loc[index, 'gender']][0] == 0:\n",
        "        eeg_data_male.append(eeg_data[i])\n",
        "        eeg_label_male.append(eeg_labels[i])\n",
        "\n",
        "    eeg_data_male = np.array(eeg_data_male)\n",
        "    eeg_label_male = np.array(eeg_label_male)\n",
        "\n",
        "    print(eeg_data_male.shape, eeg_label_male.shape)\n",
        "\n",
        "    # Step 1: Filter out entries with more than 12 instances\n",
        "    ll = eeg_label_male\n",
        "    encountered_sample_ids = {}\n",
        "    sample_ids_with_more_than_12_entries = []\n",
        "\n",
        "    for index, sample_id in enumerate(ll):\n",
        "        sample_id_tuple = tuple(sample_id)\n",
        "        count = encountered_sample_ids.get(sample_id_tuple, 0)\n",
        "        count += 1\n",
        "        encountered_sample_ids[sample_id_tuple] = count\n",
        "        if count > 12:\n",
        "            sample_ids_with_more_than_12_entries.append((sample_id_tuple, index))\n",
        "\n",
        "    indices_to_remove = [index for _, index in sample_ids_with_more_than_12_entries]\n",
        "    eeg_label_male = [sample for i, sample in enumerate(eeg_label_male) if i not in indices_to_remove]\n",
        "    eeg_data_male = [data for i, data in enumerate(eeg_data_male) if i not in indices_to_remove]\n",
        "    print(\"Length of filtered eeg_label_male:\", len(eeg_label_male))\n",
        "    print(\"Length of filtered eeg_data_male:\", len(eeg_data_male))\n",
        "\n",
        "    # Step 2: Undersampling and preparing training data\n",
        "    ll = eeg_label_male\n",
        "    unique_sample_id = []\n",
        "    encountered_sample_ids = set()\n",
        "    print(len(ll))\n",
        "    for sample_id in ll:\n",
        "        sample_id_tuple = tuple(sample_id)\n",
        "        if sample_id_tuple not in encountered_sample_ids:\n",
        "            unique_sample_id.append(sample_id)\n",
        "            encountered_sample_ids.add(sample_id_tuple)\n",
        "    print(len(unique_sample_id))\n",
        "\n",
        "    num_samples_minority = 31\n",
        "    indices_maj = [index for index, sample in enumerate(unique_sample_id) if sample[1] == \"MDD\"]\n",
        "    indices_min = [index for index, sample in enumerate(unique_sample_id) if sample[1] == \"HEALTHY\"]\n",
        "    undersampled = np.random.choice(indices_maj, num_samples_minority, replace=False)\n",
        "\n",
        "    balanced_data_indices = np.concatenate([indices_min, undersampled])\n",
        "    balanced_unique_sample_id = [unique_sample_id[i] for i in balanced_data_indices]\n",
        "\n",
        "    # Extract all unique sample IDs from balanced_unique_sample_id\n",
        "    unique_sample_ids = [sample_id[0] for sample_id in balanced_unique_sample_id]\n",
        "    print(len(unique_sample_ids))\n",
        "    # Extract all indices from eeg_label_male for sample IDs in balanced_unique_sample_id\n",
        "    indices = []\n",
        "    for i, sample_id in enumerate(eeg_label_male):\n",
        "        if sample_id[0] in unique_sample_ids:\n",
        "            indices.append(i)\n",
        "\n",
        "    # Convert indices to a NumPy array\n",
        "    indices = np.array(indices)\n",
        "    X = np.array([eeg_data_male[i] for i in indices])\n",
        "    y = np.array([1 if label[1] == \"MDD\" else 0 for label in eeg_label_male if label[0] in unique_sample_ids])\n",
        "\n",
        "    # Shuffle together with their indices\n",
        "    permutation = np.random.permutation(len(X))\n",
        "    X = X[permutation]\n",
        "    y = y[permutation]\n",
        "\n",
        "    print(X.shape)\n",
        "\n",
        "    # Split the data into training, validation, and test sets\n",
        "    X_temp, X_test, y_temp, y_test = train_test_split(X, y, test_size=0.2, stratify=y, random_state=42)\n",
        "    X_train, X_val, y_train, y_val = train_test_split(X_temp, y_temp, test_size=0.25, stratify=y_temp, random_state=42)\n",
        "\n",
        "    classifier = EEGClassifier()\n",
        "\n",
        "    num_splits = 5\n",
        "    cv = StratifiedKFold(n_splits=num_splits, shuffle=True, random_state=42)\n",
        "\n",
        "    val_accuracies = []\n",
        "    val_precisions = []\n",
        "    val_recalls = []\n",
        "    val_f1_scores = []\n",
        "    val_confusion_matrices = []\n",
        "\n",
        "    for fold_idx, (train_index, val_index) in enumerate(cv.split(X_train, y_train), 1):\n",
        "        print(f\"Fold {fold_idx}:\")\n",
        "\n",
        "        X_train_fold = X_train[train_index]\n",
        "        y_train_fold = y_train[train_index]\n",
        "        X_val_fold = X_train[val_index]\n",
        "        y_val_fold = y_train[val_index]\n",
        "\n",
        "        history = classifier.train(X_train_fold, y_train_fold, X_val_fold, y_val_fold)\n",
        "\n",
        "        train_metrics = classifier.evaluate(X_train_fold, y_train_fold)\n",
        "        print(f'Training Results - Loss: {train_metrics[\"loss\"]}, Accuracy: {train_metrics[\"accuracy\"]}, '\n",
        "              f'Precision: {train_metrics[\"precision\"]}, Recall: {train_metrics[\"recall\"]}, '\n",
        "              f'F1 Score: {train_metrics[\"f1_score\"]}')\n",
        "\n",
        "        val_metrics = classifier.evaluate(X_val_fold, y_val_fold)\n",
        "        print(f'Validation Results - Loss: {val_metrics[\"loss\"]}, Accuracy: {val_metrics[\"accuracy\"]}, '\n",
        "              f'Precision: {val_metrics[\"precision\"]}, Recall: {val_metrics[\"recall\"]}, '\n",
        "              f'F1 Score: {val_metrics[\"f1_score\"]}')\n",
        "        print('Validation Confusion Matrix:')\n",
        "        print(val_metrics['confusion_matrix'])\n",
        "        print()\n",
        "\n",
        "        val_accuracies.append(val_metrics[\"accuracy\"])\n",
        "        val_precisions.append(val_metrics[\"precision\"])\n",
        "        val_recalls.append(val_metrics[\"recall\"])\n",
        "        val_f1_scores.append(val_metrics[\"f1_score\"])\n",
        "        val_confusion_matrices.append(val_metrics[\"confusion_matrix\"])\n",
        "\n",
        "    # Calculate average validation metrics\n",
        "    avg_val_accuracy = np.mean(val_accuracies)\n",
        "    avg_val_precision = np.mean(val_precisions)\n",
        "    avg_val_recall = np.mean(val_recalls)\n",
        "    avg_val_f1_score = np.mean(val_f1_scores)\n",
        "    avg_val_confusion_matrix = np.mean(val_confusion_matrices, axis=0)\n",
        "\n",
        "    print(f'Average Validation Accuracy: {avg_val_accuracy}')\n",
        "    print(f'Average Validation Precision: {avg_val_precision}')\n",
        "    print(f'Average Validation Recall: {avg_val_recall}')\n",
        "    print(f'Average Validation F1 Score: {avg_val_f1_score}')\n",
        "    print(f'Average Validation Confusion Matrix: \\n{avg_val_confusion_matrix}')\n",
        "\n",
        "    # Evaluate on the test set\n",
        "    test_metrics = classifier.evaluate(X_test, y_test)\n",
        "    print(f'Test Results - Accuracy: {test_metrics[\"accuracy\"]}, Precision: {test_metrics[\"precision\"]}, '\n",
        "          f'Recall: {test_metrics[\"recall\"]}, F1 Score: {test_metrics[\"f1_score\"]}')\n",
        "    print('Test Confusion Matrix:')\n",
        "    print(test_metrics['confusion_matrix'])\n",
        "\n",
        "if __name__ == \"__main__\":\n",
        "    main()"
      ],
      "metadata": {
        "id": "bSUyoFdcfpbK",
        "colab": {
          "base_uri": "https://localhost:8080/"
        },
        "outputId": "30739e0a-1da8-4dbf-fb53-d4cc66ab402a"
      },
      "execution_count": 14,
      "outputs": [
        {
          "output_type": "stream",
          "name": "stdout",
          "text": [
            "(2412, 64, 4975) (2412, 2)\n",
            "Length of filtered eeg_label_male: 2328\n",
            "Length of filtered eeg_data_male: 2328\n",
            "2328\n",
            "194\n",
            "62\n",
            "(744, 64, 4975)\n",
            "Fold 1:\n",
            "12/12 [==============================] - 1s 21ms/step\n",
            "Training Results - Loss: 0.5082722902297974, Accuracy: 0.7983193397521973, Precision: 0.7673715949058533, Recall: 0.8552188277244568, F1 Score: 0.8089171974522293\n",
            "3/3 [==============================] - 0s 19ms/step\n",
            "Validation Results - Loss: 1.3394775390625, Accuracy: 0.4899328947067261, Precision: 0.49450549483299255, Recall: 0.6000000238418579, F1 Score: 0.5421686746987951\n",
            "Validation Confusion Matrix:\n",
            "[[24 36]\n",
            " [24 36]]\n",
            "\n",
            "Fold 2:\n",
            "12/12 [==============================] - 0s 19ms/step\n",
            "Training Results - Loss: 0.48095595836639404, Accuracy: 0.8453781604766846, Precision: 0.8451178669929504, Recall: 0.8451178669929504, F1 Score: 0.8451178451178452\n",
            "3/3 [==============================] - 0s 18ms/step\n",
            "Validation Results - Loss: 1.0223296880722046, Accuracy: 0.6979866027832031, Precision: 0.7027027010917664, Recall: 0.6933333277702332, F1 Score: 0.6979865771812082\n",
            "Validation Confusion Matrix:\n",
            "[[11 25]\n",
            " [26  58]]\n",
            "\n",
            "Fold 3:\n",
            "12/12 [==============================] - 0s 20ms/step\n",
            "Training Results - Loss: 0.5180779695510864, Accuracy: 0.831932783126831, Precision: 0.8256579041481018, Recall: 0.8422818779945374, F1 Score: 0.8338870431893688\n",
            "3/3 [==============================] - 0s 18ms/step\n",
            "Validation Results - Loss: 0.962721049785614, Accuracy: 0.718120813369751, Precision: 0.7222222089767456, Recall: 0.7027027010917664, F1 Score: 0.7123287671232876\n",
            "Validation Confusion Matrix:\n",
            "[[ 9 24]\n",
            " [26 61]]\n",
            "\n",
            "Fold 4:\n",
            "12/12 [==============================] - 0s 21ms/step\n",
            "Training Results - Loss: 0.6354315876960754, Accuracy: 0.8672268986701965, Precision: 0.8268656730651855, Recall: 0.9295302033424377, F1 Score: 0.8751974723538705\n",
            "3/3 [==============================] - 0s 21ms/step\n",
            "Validation Results - Loss: 1.0488861799240112, Accuracy: 0.7785235047340393, Precision: 0.7252747416496277, Recall: 0.8918918967247009, F1 Score: 0.8\n",
            "Validation Confusion Matrix:\n",
            "[[ 3 30]\n",
            " [ 9 78]]\n",
            "\n",
            "Fold 5:\n",
            "12/12 [==============================] - 0s 21ms/step\n",
            "Training Results - Loss: 0.6261088848114014, Accuracy: 0.8489933013916016, Precision: 0.8333333134651184, Recall: 0.8724831938743591, F1 Score: 0.8524590163934426\n",
            "3/3 [==============================] - 0s 19ms/step\n",
            "Validation Results - Loss: 1.2248244285583496, Accuracy: 0.75, Precision: 0.7078651785850525, Recall: 0.8513513803482056, F1 Score: 0.7730061349693251\n",
            "Validation Confusion Matrix:\n",
            "[[ 5 29]\n",
            " [12  69]]\n",
            "\n",
            "Average Validation Accuracy: 0.686544704246521\n",
            "Average Validation Precision: 0.6709554909706116\n",
            "Average Validation Recall: 0.7479252592563629\n",
            "Average Validation F1 Score: 0.7051278211928151\n",
            "Average Validation Confusion Matrix: \n",
            "[[60.4 28.8 ]\n",
            " [19.4 10.4]]\n",
            "5/5 [==============================] - 0s 21ms/step\n",
            "Test Results - Accuracy: 0.5570470094680786, Precision: 0.5476190447807312, Recall: 0.6216216087341309, F1 Score: 0.582278481012658\n",
            "Test Confusion Matrix:\n",
            "[[37 38]\n",
            " [28 46]]\n"
          ]
        }
      ]
    },
    {
      "cell_type": "code",
      "source": [],
      "metadata": {
        "id": "ouDQ-ruZ1WXq"
      },
      "execution_count": null,
      "outputs": []
    }
  ],
  "metadata": {
    "colab": {
      "provenance": [],
      "machine_shape": "hm",
      "gpuType": "T4"
    },
    "kernelspec": {
      "display_name": "Python 3",
      "name": "python3"
    },
    "language_info": {
      "name": "python"
    },
    "accelerator": "GPU"
  },
  "nbformat": 4,
  "nbformat_minor": 0
}
