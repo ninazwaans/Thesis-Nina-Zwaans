{
  "cells": [
    {
      "cell_type": "markdown",
      "source": [
        "\n",
        "I utilized the LSTM implementation specifically tailored for EEG data from the following GitHub repository: https://github.com/theyou21/BigProject. This resource provided invaluable support for my LSTM analysis."
      ],
      "metadata": {
        "id": "EjCCIQuw1md6"
      }
    },
    {
      "cell_type": "code",
      "execution_count": null,
      "metadata": {
        "id": "Kj8lCByp9dFa",
        "colab": {
          "base_uri": "https://localhost:8080/"
        },
        "outputId": "bf965cb8-ef0f-4327-de89-15ec2201b148"
      },
      "outputs": [
        {
          "output_type": "stream",
          "name": "stdout",
          "text": [
            "Mounted at /content/drive\n"
          ]
        }
      ],
      "source": [
        "from google.colab import drive\n",
        "\n",
        "drive.mount('/content/drive')"
      ]
    },
    {
      "cell_type": "code",
      "execution_count": null,
      "metadata": {
        "id": "OSo-YwnR-aF2"
      },
      "outputs": [],
      "source": [
        "import numpy as np\n",
        "import pandas as pd\n",
        "import os"
      ]
    },
    {
      "cell_type": "code",
      "execution_count": null,
      "metadata": {
        "id": "Mso-NzZ19uVj"
      },
      "outputs": [],
      "source": [
        "ec_data_dir = \"/content/drive/MyDrive/TD-BRAIN/training_data/data/EC\"\n",
        "eo_data_dir = \"/content/drive/MyDrive/TD-BRAIN/training_data/data/EO\"\n",
        "ec_eeg_data = np.load(os.path.join(ec_data_dir, \"normalized_epoch_eeg_data.npy\"))\n",
        "eo_eeg_data = np.load(os.path.join(eo_data_dir, \"normalized_epoch_eeg_data.npy\"))"
      ]
    },
    {
      "cell_type": "code",
      "execution_count": null,
      "metadata": {
        "id": "nB1g1ok5-QKw",
        "colab": {
          "base_uri": "https://localhost:8080/"
        },
        "outputId": "623485cb-3f01-4bdb-a9c5-d6f1a53ac4f3"
      },
      "outputs": [
        {
          "output_type": "stream",
          "name": "stdout",
          "text": [
            "(4356, 1, 32, 4975)\n",
            "(4344, 1, 32, 4975)\n"
          ]
        }
      ],
      "source": [
        "print(ec_eeg_data.shape)\n",
        "print(eo_eeg_data.shape)"
      ]
    },
    {
      "cell_type": "code",
      "execution_count": null,
      "metadata": {
        "id": "aNA3Bh_u-jvy"
      },
      "outputs": [],
      "source": [
        "ec_labels_dir = \"/content/drive/MyDrive/TD-BRAIN/training_data/data/EC\"\n",
        "eo_labels_dir = \"/content/drive/MyDrive/TD-BRAIN/training_data/data/EO\"\n",
        "ec_eeg_labels = np.load(os.path.join(ec_labels_dir, \"labels_data.npy\"))\n",
        "eo_eeg_labels = np.load(os.path.join(eo_labels_dir, \"labels_data.npy\"))"
      ]
    },
    {
      "cell_type": "code",
      "execution_count": null,
      "metadata": {
        "id": "GjUzGyL7_Axu",
        "colab": {
          "base_uri": "https://localhost:8080/"
        },
        "outputId": "8d84682b-b081-41ed-d6ba-f24a3aa0fe55"
      },
      "outputs": [
        {
          "output_type": "stream",
          "name": "stdout",
          "text": [
            "(4356, 2)\n",
            "(4344, 2)\n"
          ]
        }
      ],
      "source": [
        "print(ec_eeg_labels.shape)\n",
        "print(eo_eeg_labels.shape)"
      ]
    },
    {
      "cell_type": "code",
      "source": [
        "for label in ec_eeg_labels:\n",
        "  sample_id = label[0]\n",
        "  if sample_id not in eo_eeg_labels[:, 0]:\n",
        "        index_to_remove = np.where(ec_eeg_labels[:, 0] == sample_id)[0]\n",
        "        ec_eeg_labels = np.delete(ec_eeg_labels, index_to_remove, axis=0)\n",
        "        ec_eeg_data = np.delete(ec_eeg_data, index_to_remove, axis=0)\n",
        "print(ec_eeg_labels.shape)\n",
        "print(ec_eeg_data.shape)"
      ],
      "metadata": {
        "id": "4yOz0jBErINx",
        "colab": {
          "base_uri": "https://localhost:8080/"
        },
        "outputId": "a5dd712d-f3dd-4fda-db80-8c78fbde7c92"
      },
      "execution_count": null,
      "outputs": [
        {
          "output_type": "stream",
          "name": "stdout",
          "text": [
            "(4344, 2)\n",
            "(4344, 1, 32, 4975)\n"
          ]
        }
      ]
    },
    {
      "cell_type": "code",
      "source": [
        "eeg_data = np.concatenate((ec_eeg_data[:, 0], eo_eeg_data[:, 0]), axis=1)\n",
        "eeg_data.shape"
      ],
      "metadata": {
        "id": "mhbmIqENrIWo",
        "colab": {
          "base_uri": "https://localhost:8080/"
        },
        "outputId": "13cceaae-9e2f-4151-aa1f-037d3b789424"
      },
      "execution_count": null,
      "outputs": [
        {
          "output_type": "execute_result",
          "data": {
            "text/plain": [
              "(4344, 64, 4975)"
            ]
          },
          "metadata": {},
          "execution_count": 8
        }
      ]
    },
    {
      "cell_type": "code",
      "source": [
        "eeg_labels = ec_eeg_labels"
      ],
      "metadata": {
        "id": "0xTKQqAMrNHf"
      },
      "execution_count": null,
      "outputs": []
    },
    {
      "cell_type": "code",
      "source": [
        "healthy_count, mdd_count = 0, 0\n",
        "for sample in eeg_labels:\n",
        "  if sample[1] == \"MDD\":\n",
        "      mdd_count += 1\n",
        "  else:\n",
        "      healthy_count += 1\n",
        "\n",
        "print(f\"Number of MDD participants: {mdd_count}\")\n",
        "print(f\"Number of Healthy participants: {healthy_count}\")"
      ],
      "metadata": {
        "colab": {
          "base_uri": "https://localhost:8080/"
        },
        "id": "6o2e6442_rix",
        "outputId": "6bfb280f-4e68-4d31-8fff-11d7ba3e2589"
      },
      "execution_count": null,
      "outputs": [
        {
          "output_type": "stream",
          "name": "stdout",
          "text": [
            "Number of MDD participants: 3780\n",
            "Number of Healthy participants: 564\n"
          ]
        }
      ]
    },
    {
      "cell_type": "markdown",
      "source": [
        "Extracting data for female participants"
      ],
      "metadata": {
        "id": "VMj3gbuquMBf"
      }
    },
    {
      "cell_type": "code",
      "source": [
        "import pandas as pd\n",
        "import numpy as np\n",
        "\n",
        "# Load the participants data\n",
        "df_participants = pd.read_pickle('/content/drive/MyDrive/TD-BRAIN/TDBRAIN_participants_V2_data/df_participants.pkl')\n",
        "\n",
        "# Prepare lists to hold the filtered data and labels\n",
        "eeg_data_female = []\n",
        "eeg_label_female = []\n",
        "\n",
        "# Loop over each label in your existing eeg_labels list\n",
        "for i, labels in enumerate(eeg_labels):\n",
        "    sample_id = labels[0]\n",
        "    index = df_participants.loc[df_participants['participants_ID'] == sample_id].index\n",
        "\n",
        "    if not index.empty:  # Check if the index is not empty\n",
        "        participant_gender = df_participants.loc[index, 'gender'].values[0]\n",
        "        participant_condition = labels[1]  # Assuming the condition (MDD/HEALTHY) is stored in labels[1]\n",
        "\n",
        "        # Check if participant is female and has the condition \"Healthy\" or \"MDD\"\n",
        "        if participant_gender == 1 and (participant_condition == \"HEALTHY\" or participant_condition == \"MDD\"):\n",
        "            eeg_data_female.append(eeg_data[i])\n",
        "            eeg_label_female.append(labels)\n",
        "\n",
        "# Convert lists to NumPy arrays for further processing\n",
        "eeg_data_female = np.array(eeg_data_female)\n",
        "eeg_label_female = np.array(eeg_label_female)\n",
        "\n",
        "# Output the shape of the arrays to verify the results\n",
        "print(f\"Shape of female EEG data: {eeg_data_female.shape}\")\n",
        "print(f\"Shape of female EEG labels: {eeg_label_female.shape}\")\n"
      ],
      "metadata": {
        "id": "AO_353PuuLbn",
        "colab": {
          "base_uri": "https://localhost:8080/"
        },
        "outputId": "88dd5fe6-06d3-4e19-f2e2-cebfe43b4ed4"
      },
      "execution_count": null,
      "outputs": [
        {
          "output_type": "stream",
          "name": "stdout",
          "text": [
            "Shape of female EEG data: (1932, 64, 4975)\n",
            "Shape of female EEG labels: (1932, 2)\n"
          ]
        }
      ]
    },
    {
      "cell_type": "code",
      "source": [
        "healthy_count_female, mdd_count_female = 0, 0\n",
        "for sample in eeg_label_female:\n",
        "  if sample[1] == \"MDD\":\n",
        "      mdd_count_female += 1\n",
        "  else:\n",
        "      healthy_count_female += 1\n",
        "\n",
        "print(f\"Number of MDD female participants: {mdd_count_female}\")\n",
        "print(f\"Number of Healthy female participants: {healthy_count_female}\")"
      ],
      "metadata": {
        "colab": {
          "base_uri": "https://localhost:8080/"
        },
        "id": "5LmB6cG4_tyz",
        "outputId": "d31160db-da39-44e7-c39d-3b855aae5cea"
      },
      "execution_count": null,
      "outputs": [
        {
          "output_type": "stream",
          "name": "stdout",
          "text": [
            "Number of MDD female participants: 1740\n",
            "Number of Healthy female participants: 192\n"
          ]
        }
      ]
    },
    {
      "cell_type": "markdown",
      "metadata": {
        "id": "CpyjPRqmaPN8"
      },
      "source": [
        "### **Converting the labels to binary**\n",
        "1 -> MDD\n",
        "\n",
        "0 -> HEALTHY"
      ]
    },
    {
      "cell_type": "markdown",
      "metadata": {
        "id": "VU0Kf2SFYNT_"
      },
      "source": [
        "# **Model**"
      ]
    },
    {
      "cell_type": "code",
      "execution_count": null,
      "metadata": {
        "id": "b2X4KAfWcAVk"
      },
      "outputs": [],
      "source": [
        "from sklearn.model_selection import train_test_split\n",
        "from tensorflow.keras.models import Sequential\n",
        "from tensorflow.keras.layers import LSTM, Dense, Dropout, BatchNormalization\n",
        "import matplotlib.pyplot as plt\n",
        "from keras.regularizers import l2\n",
        "from keras.metrics import Precision, Recall\n",
        "from sklearn.metrics import f1_score, confusion_matrix"
      ]
    },
    {
      "cell_type": "code",
      "execution_count": null,
      "metadata": {
        "id": "WyCSl6BScBEJ",
        "colab": {
          "base_uri": "https://localhost:8080/"
        },
        "outputId": "6e95bdce-5536-403e-f921-c4156044a108"
      },
      "outputs": [
        {
          "output_type": "stream",
          "name": "stdout",
          "text": [
            "Length of filtered eeg_label_female: 1920\n",
            "Length of filtered eeg_data_female: 1920\n",
            "1920\n",
            "160\n",
            "32\n",
            "(384, 64, 4975)\n"
          ]
        }
      ],
      "source": [
        "ll = eeg_label_female\n",
        "encountered_sample_ids = {}\n",
        "sample_ids_with_more_than_12_entries = []\n",
        "\n",
        "for index, sample_id in enumerate(ll):\n",
        "    sample_id_tuple = tuple(sample_id)\n",
        "    count = encountered_sample_ids.get(sample_id_tuple, 0)\n",
        "    count += 1\n",
        "    encountered_sample_ids[sample_id_tuple] = count\n",
        "    if count > 12:\n",
        "        sample_ids_with_more_than_12_entries.append((sample_id_tuple, index))\n",
        "\n",
        "indices_to_remove = [index for _, index in sample_ids_with_more_than_12_entries]\n",
        "eeg_label_female = [sample for i, sample in enumerate(eeg_label_female) if i not in indices_to_remove]\n",
        "eeg_data_female = [data for i, data in enumerate(eeg_data_female) if i not in indices_to_remove]\n",
        "print(\"Length of filtered eeg_label_female:\", len(eeg_label_female))\n",
        "print(\"Length of filtered eeg_data_female:\", len(eeg_data_female))\n",
        "\n",
        "\n",
        "###### Undersampling and preparing training data ########\n",
        "ll = eeg_label_female\n",
        "unique_sample_id = []\n",
        "encountered_sample_ids = set()\n",
        "print(len(ll))\n",
        "for sample_id in ll:\n",
        "    sample_id_tuple = tuple(sample_id)\n",
        "    if sample_id_tuple not in encountered_sample_ids:\n",
        "        unique_sample_id.append(sample_id)\n",
        "        encountered_sample_ids.add(sample_id_tuple)\n",
        "print(len(unique_sample_id))\n",
        "\n",
        "num_samples_minority = 16\n",
        "indices_maj = [index for index, sample in enumerate(unique_sample_id) if sample[1] == \"MDD\"]\n",
        "indices_min = [index for index, sample in enumerate(unique_sample_id) if sample[1] == \"HEALTHY\"]\n",
        "undersampled = np.random.choice(indices_maj, num_samples_minority, replace=False)\n",
        "\n",
        "balanced_data_indices = np.concatenate([indices_min, undersampled])\n",
        "# print(unique_sample_id)\n",
        "balanced_unique_sample_id = [unique_sample_id[i] for i in balanced_data_indices]\n",
        "\n",
        "# Extract all unique sample IDs from train_unique_sample_id\n",
        "unique_sample_ids = [sample_id[0] for sample_id in balanced_unique_sample_id]\n",
        "print(len(unique_sample_ids))\n",
        "# Extract all indices from eeg_labels for sample IDs in train_unique_sample_id\n",
        "indices = []\n",
        "for i, sample_id in enumerate(eeg_label_female):\n",
        "  # print(sample_id[0])\n",
        "  if sample_id[0] in unique_sample_ids:\n",
        "        indices.append(i)\n",
        "\n",
        "# Convert indices to a NumPy array\n",
        "indices = np.array(indices)\n",
        "X_train = []\n",
        "y_train = []\n",
        "for i in indices:\n",
        "    X_train.append(eeg_data_female[i])\n",
        "    y_train.append(eeg_label_female[i])\n",
        "\n",
        "X_train = np.array(X_train)\n",
        "y_train = np.array(y_train)\n",
        "\n",
        "# Shuffle together with their indices\n",
        "permutation = np.random.permutation(len(X_train))\n",
        "X_train = X_train[permutation]\n",
        "y_train = y_train[permutation]\n",
        "\n",
        "print(X_train.shape)\n",
        "# print(y_train)\n",
        "\n",
        "sample_ids = []\n",
        "for sample in y_train:\n",
        "  sample_ids.append(sample[0])\n",
        "sample_ids = np.array(sample_ids)\n",
        "l = np.array([1 if label[1] == \"MDD\" else 0 for label in y_train])"
      ]
    },
    {
      "cell_type": "code",
      "execution_count": null,
      "metadata": {
        "id": "PfzmsJCA1voj"
      },
      "outputs": [],
      "source": [
        "from sklearn.metrics import f1_score, confusion_matrix\n",
        "from keras.callbacks import ModelCheckpoint\n",
        "\n",
        "class EEGClassifier:\n",
        "    def __init__(self, input_shape=(64, 4975), lstm_units=128):\n",
        "        self.input_shape = input_shape\n",
        "        self.lstm_units = lstm_units\n",
        "        self.model = self.build_model()\n",
        "\n",
        "    def build_model(self):\n",
        "        model = Sequential()\n",
        "        model.add(LSTM(units=self.lstm_units,\n",
        "                   input_shape=self.input_shape,\n",
        "                   return_sequences=True))\n",
        "        model.add(Dropout(0.2))\n",
        "        model.add(BatchNormalization())\n",
        "\n",
        "        model.add(LSTM(units=64,\n",
        "                   return_sequences=True))\n",
        "        model.add(Dropout(0.2))\n",
        "\n",
        "        model.add(LSTM(units=32))\n",
        "        model.add(Dropout(0.2))\n",
        "\n",
        "        model.add(Dense(units=64, activation='sigmoid'))\n",
        "        model.add(Dropout(0.2))\n",
        "\n",
        "        model.add(Dense(units=1, activation='sigmoid'))\n",
        "\n",
        "        model.compile(loss='binary_crossentropy', optimizer='adam', metrics=['accuracy', Precision(), Recall()])\n",
        "        return model\n",
        "\n",
        "    def train(self, X_train, y_train, X_val, y_val, epochs=20, batch_size=1):\n",
        "        # Calculate class weights\n",
        "        class_weights = {0: 1, 1: 1}  # Initialize with equal weights\n",
        "        num_minority = np.sum(y_train == 0)\n",
        "        num_majority = np.sum(y_train == 1)\n",
        "        total_samples = len(y_train)\n",
        "        class_weights[0] = (1 / num_minority) * (total_samples / 2.0)\n",
        "        class_weights[1] = (1 / num_majority) * (total_samples / 2.0)\n",
        "\n",
        "        history = self.model.fit(X_train, y_train, epochs=epochs, batch_size=batch_size, validation_data=(X_val, y_val), class_weight=class_weights, verbose=0)\n",
        "        return history\n",
        "\n",
        "    def evaluate(self, X_test, y_test):\n",
        "        loss, accuracy, precision, recall = self.model.evaluate(X_test, y_test, verbose=0)\n",
        "        print(f'Test Loss: {loss}, Test Accuracy: {accuracy}, Precision: {precision}, Recall: {recall}')\n",
        "        y_pred = self.model.predict(X_test)\n",
        "        y_pred_classes = np.round(y_pred)\n",
        "        f1 = f1_score(y_test, y_pred_classes)\n",
        "        print(f'F1 Score: {f1}')\n",
        "        cm = confusion_matrix(y_test, y_pred_classes)\n",
        "        print('Confusion Matrix:')\n",
        "        print(cm)\n",
        "\n",
        "        evaluation_metrics = {\n",
        "            'loss': loss,\n",
        "            'accuracy': accuracy,\n",
        "            'precision': precision,\n",
        "            'recall': recall,\n",
        "            'f1_score': f1,\n",
        "            'confusion_matrix': cm\n",
        "        }\n",
        "\n",
        "        return evaluation_metrics\n",
        "\n",
        "    def predict(self, X):\n",
        "        return self.model.predict(X)\n",
        "\n",
        "    def plot_loss(self, history):\n",
        "        plt.plot(history.history['loss'], label='Training Loss')\n",
        "        plt.plot(history.history['val_loss'], label='Validation Loss')\n",
        "        plt.title('Training and Validation Loss')\n",
        "        plt.xlabel('Epochs')\n",
        "        plt.ylabel('Loss')\n",
        "        plt.legend()\n",
        "        plt.show()\n"
      ]
    },
    {
      "cell_type": "code",
      "execution_count": null,
      "metadata": {
        "id": "gVv8Bu0cYnq5",
        "colab": {
          "base_uri": "https://localhost:8080/"
        },
        "outputId": "c70de573-237e-4330-acee-b614054fb80d"
      },
      "outputs": [
        {
          "output_type": "stream",
          "name": "stdout",
          "text": [
            "Fold 1:\n",
            "Test Loss: 0.471616268157959, Test Accuracy: 0.9250814318656921, Precision: 0.9391891956329346, Recall: 0.9084967374801636\n",
            "10/10 [==============================] - 1s 14ms/step\n",
            "F1 Score: 0.9235880398671096\n",
            "Confusion Matrix:\n",
            "[[145   9]\n",
            " [ 14 139]]\n",
            "Training Results - Loss: 0.471616268157959, Accuracy: 0.9250814318656921, Precision: 0.9391891956329346, Recall: 0.9084967374801636, F1 Score: 0.9235880398671096\n",
            "Test Loss: 3.3264830112457275, Test Accuracy: 0.5454545617103577, Precision: 0.5588235259056091, Recall: 0.4871794879436493\n",
            "3/3 [==============================] - 0s 13ms/step\n",
            "F1 Score: 0.5205479452054794\n",
            "Confusion Matrix:\n",
            "[[23 15]\n",
            " [20 19]]\n",
            "Validation Results - Loss: 3.3264830112457275, Accuracy: 0.5454545617103577, Precision: 0.5588235259056091, Recall: 0.4871794879436493, F1 Score: 0.5205479452054794\n",
            "\n",
            "Fold 2:\n",
            "Test Loss: 0.37263286113739014, Test Accuracy: 0.9250814318656921, Precision: 0.9166666865348816, Recall: 0.9346405267715454\n",
            "10/10 [==============================] - 0s 14ms/step\n",
            "F1 Score: 0.9255663430420712\n",
            "Confusion Matrix:\n",
            "[[141  13]\n",
            " [ 10 143]]\n",
            "Training Results - Loss: 0.37263286113739014, Accuracy: 0.9250814318656921, Precision: 0.9166666865348816, Recall: 0.9346405267715454, F1 Score: 0.9255663430420712\n",
            "Test Loss: 1.7975554466247559, Test Accuracy: 0.6753246784210205, Precision: 0.675000011920929, Recall: 0.692307710647583\n",
            "3/3 [==============================] - 0s 14ms/step\n",
            "F1 Score: 0.6835443037974683\n",
            "Confusion Matrix:\n",
            "[[25 13]\n",
            " [12 27]]\n",
            "Validation Results - Loss: 1.7975554466247559, Accuracy: 0.6753246784210205, Precision: 0.675000011920929, Recall: 0.692307710647583, F1 Score: 0.6835443037974683\n",
            "\n",
            "Fold 3:\n",
            "Test Loss: 0.8987702131271362, Test Accuracy: 0.8599348664283752, Precision: 0.8627451062202454, Recall: 0.8571428656578064\n",
            "10/10 [==============================] - 0s 14ms/step\n",
            "F1 Score: 0.8599348534201954\n",
            "Confusion Matrix:\n",
            "[[132  21]\n",
            " [ 22 132]]\n",
            "Training Results - Loss: 0.8987702131271362, Accuracy: 0.8599348664283752, Precision: 0.8627451062202454, Recall: 0.8571428656578064, F1 Score: 0.8599348534201954\n",
            "Test Loss: 1.5166447162628174, Test Accuracy: 0.7142857313156128, Precision: 0.7352941036224365, Recall: 0.6578947305679321\n",
            "3/3 [==============================] - 0s 13ms/step\n",
            "F1 Score: 0.6944444444444445\n",
            "Confusion Matrix:\n",
            "[[30  9]\n",
            " [13 25]]\n",
            "Validation Results - Loss: 1.5166447162628174, Accuracy: 0.7142857313156128, Precision: 0.7352941036224365, Recall: 0.6578947305679321, F1 Score: 0.6944444444444445\n",
            "\n",
            "Fold 4:\n",
            "Test Loss: 0.8002669811248779, Test Accuracy: 0.8697068691253662, Precision: 0.8653846383094788, Recall: 0.8766233921051025\n",
            "10/10 [==============================] - 0s 14ms/step\n",
            "F1 Score: 0.8709677419354839\n",
            "Confusion Matrix:\n",
            "[[132  21]\n",
            " [ 19 135]]\n",
            "Training Results - Loss: 0.8002669811248779, Accuracy: 0.8697068691253662, Precision: 0.8653846383094788, Recall: 0.8766233921051025, F1 Score: 0.8709677419354839\n",
            "Test Loss: 0.9648409485816956, Test Accuracy: 0.8181818127632141, Precision: 0.8157894611358643, Recall: 0.8157894611358643\n",
            "3/3 [==============================] - 0s 13ms/step\n",
            "F1 Score: 0.8157894736842104\n",
            "Confusion Matrix:\n",
            "[[32  7]\n",
            " [ 7 31]]\n",
            "Validation Results - Loss: 0.9648409485816956, Accuracy: 0.8181818127632141, Precision: 0.8157894611358643, Recall: 0.8157894611358643, F1 Score: 0.8157894736842104\n",
            "\n",
            "Fold 5:\n",
            "Test Loss: 0.6703070998191833, Test Accuracy: 0.8961039185523987, Precision: 0.9013158082962036, Recall: 0.8896104097366333\n",
            "10/10 [==============================] - 0s 14ms/step\n",
            "F1 Score: 0.8954248366013072\n",
            "Confusion Matrix:\n",
            "[[139  15]\n",
            " [ 17 137]]\n",
            "Training Results - Loss: 0.6703070998191833, Accuracy: 0.8961039185523987, Precision: 0.9013158082962036, Recall: 0.8896104097366333, F1 Score: 0.8954248366013072\n",
            "Test Loss: 1.9132413864135742, Test Accuracy: 0.7368420958518982, Precision: 0.7647058963775635, Recall: 0.6842105388641357\n",
            "3/3 [==============================] - 0s 13ms/step\n",
            "F1 Score: 0.7222222222222222\n",
            "Confusion Matrix:\n",
            "[[30  8]\n",
            " [12 26]]\n",
            "Validation Results - Loss: 1.9132413864135742, Accuracy: 0.7368420958518982, Precision: 0.7647058963775635, Recall: 0.6842105388641357, F1 Score: 0.7222222222222222\n",
            "\n"
          ]
        }
      ],
      "source": [
        "from sklearn.model_selection import StratifiedKFold\n",
        "\n",
        "def main():\n",
        "    global classifier\n",
        "    classifier = EEGClassifier()\n",
        "\n",
        "    num_splits = 5\n",
        "    cv = StratifiedKFold(n_splits=num_splits, shuffle=True, random_state=42)\n",
        "\n",
        "    for fold_idx, (train_index, val_index) in enumerate(cv.split(X_train, l), 1):\n",
        "        print(f\"Fold {fold_idx}:\")\n",
        "\n",
        "        X_train_fold, X_val_fold = X_train[train_index], X_train[val_index]\n",
        "        y_train_fold, y_val_fold = l[train_index], l[val_index]\n",
        "\n",
        "        history = classifier.train(X_train_fold, y_train_fold, X_val_fold, y_val_fold)\n",
        "\n",
        "        # Evaluate on training set after training\n",
        "        train_metrics = classifier.evaluate(X_train_fold, y_train_fold)\n",
        "        print(f'Training Results - Loss: {train_metrics[\"loss\"]}, Accuracy: {train_metrics[\"accuracy\"]}, '\n",
        "              f'Precision: {train_metrics[\"precision\"]}, Recall: {train_metrics[\"recall\"]}, '\n",
        "              f'F1 Score: {train_metrics[\"f1_score\"]}')\n",
        "\n",
        "        # Evaluate on the validation set after training\n",
        "        val_metrics = classifier.evaluate(X_val_fold, y_val_fold)\n",
        "        print(f'Validation Results - Loss: {val_metrics[\"loss\"]}, Accuracy: {val_metrics[\"accuracy\"]}, '\n",
        "              f'Precision: {val_metrics[\"precision\"]}, Recall: {val_metrics[\"recall\"]}, '\n",
        "              f'F1 Score: {val_metrics[\"f1_score\"]}')\n",
        "        print()\n",
        "\n",
        "if __name__ == \"__main__\":\n",
        "    main()"
      ]
    }
  ],
  "metadata": {
    "colab": {
      "provenance": [],
      "machine_shape": "hm",
      "gpuType": "L4"
    },
    "kernelspec": {
      "display_name": "Python 3",
      "name": "python3"
    },
    "language_info": {
      "name": "python"
    },
    "accelerator": "GPU"
  },
  "nbformat": 4,
  "nbformat_minor": 0
}