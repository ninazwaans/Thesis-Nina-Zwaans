{
  "cells": [
    {
      "cell_type": "markdown",
      "source": [
        "I utilized the SVM implementation specifically tailored for EEG data from the following GitHub repository: https://github.com/jayavardhanravi/EEG-Data-predection/blob/master/mypart1.py. This resource provided invaluable support for my SVM analysis."
      ],
      "metadata": {
        "id": "P3Kk0snJSsu1"
      }
    },
    {
      "cell_type": "code",
      "execution_count": null,
      "metadata": {
        "id": "Kj8lCByp9dFa",
        "colab": {
          "base_uri": "https://localhost:8080/"
        },
        "outputId": "83c233f2-5563-4915-93a5-dd04043abb6b"
      },
      "outputs": [
        {
          "output_type": "stream",
          "name": "stdout",
          "text": [
            "Mounted at /content/drive\n"
          ]
        }
      ],
      "source": [
        "from google.colab import drive\n",
        "\n",
        "drive.mount('/content/drive')"
      ]
    },
    {
      "cell_type": "code",
      "execution_count": null,
      "metadata": {
        "id": "OSo-YwnR-aF2"
      },
      "outputs": [],
      "source": [
        "import numpy as np\n",
        "import pandas as pd\n",
        "import os"
      ]
    },
    {
      "cell_type": "code",
      "execution_count": null,
      "metadata": {
        "id": "Mso-NzZ19uVj"
      },
      "outputs": [],
      "source": [
        "ec_data_dir = \"/content/drive/MyDrive/TD-BRAIN/training_data/data/EC\"\n",
        "eo_data_dir = \"/content/drive/MyDrive/TD-BRAIN/training_data/data/EO\"\n",
        "ec_eeg_data = np.load(os.path.join(ec_data_dir, \"normalized_epoch_eeg_data.npy\"))\n",
        "eo_eeg_data = np.load(os.path.join(eo_data_dir, \"normalized_epoch_eeg_data.npy\"))"
      ]
    },
    {
      "cell_type": "code",
      "execution_count": null,
      "metadata": {
        "id": "nB1g1ok5-QKw",
        "colab": {
          "base_uri": "https://localhost:8080/"
        },
        "outputId": "0aa52cd2-c1b9-46d6-da0f-71e2a43b6272"
      },
      "outputs": [
        {
          "output_type": "stream",
          "name": "stdout",
          "text": [
            "(4356, 1, 32, 4975)\n",
            "(4344, 1, 32, 4975)\n"
          ]
        }
      ],
      "source": [
        "print(ec_eeg_data.shape)\n",
        "print(eo_eeg_data.shape)"
      ]
    },
    {
      "cell_type": "code",
      "execution_count": null,
      "metadata": {
        "id": "aNA3Bh_u-jvy"
      },
      "outputs": [],
      "source": [
        "ec_labels_dir = \"/content/drive/MyDrive/TD-BRAIN/training_data/data/EC\"\n",
        "eo_labels_dir = \"/content/drive/MyDrive/TD-BRAIN/training_data/data/EO\"\n",
        "ec_eeg_labels = np.load(os.path.join(ec_labels_dir, \"labels_data.npy\"))\n",
        "eo_eeg_labels = np.load(os.path.join(eo_labels_dir, \"labels_data.npy\"))"
      ]
    },
    {
      "cell_type": "code",
      "execution_count": null,
      "metadata": {
        "id": "GjUzGyL7_Axu",
        "colab": {
          "base_uri": "https://localhost:8080/"
        },
        "outputId": "56783346-7a30-4459-ef9f-6837e7abef5f"
      },
      "outputs": [
        {
          "output_type": "stream",
          "name": "stdout",
          "text": [
            "(4356, 2)\n",
            "(4344, 2)\n"
          ]
        }
      ],
      "source": [
        "print(ec_eeg_labels.shape)\n",
        "print(eo_eeg_labels.shape)"
      ]
    },
    {
      "cell_type": "code",
      "execution_count": null,
      "metadata": {
        "id": "UJCbLgrGwmPN",
        "colab": {
          "base_uri": "https://localhost:8080/"
        },
        "outputId": "4591ba70-533b-478f-c97b-3f11ef108aa0"
      },
      "outputs": [
        {
          "output_type": "stream",
          "name": "stdout",
          "text": [
            "(4344, 2)\n",
            "(4344, 1, 32, 4975)\n"
          ]
        }
      ],
      "source": [
        "for label in ec_eeg_labels:\n",
        "  sample_id = label[0]\n",
        "  if sample_id not in eo_eeg_labels[:, 0]:\n",
        "        index_to_remove = np.where(ec_eeg_labels[:, 0] == sample_id)[0]\n",
        "        ec_eeg_labels = np.delete(ec_eeg_labels, index_to_remove, axis=0)\n",
        "        ec_eeg_data = np.delete(ec_eeg_data, index_to_remove, axis=0)\n",
        "print(ec_eeg_labels.shape)\n",
        "print(ec_eeg_data.shape)\n",
        "\n",
        "eeg_data = np.concatenate((ec_eeg_data[:, 0], eo_eeg_data[:, 0]), axis=1)\n",
        "eeg_data.shape\n",
        "\n",
        "eeg_labels = ec_eeg_labels"
      ]
    },
    {
      "cell_type": "code",
      "execution_count": null,
      "metadata": {
        "id": "_uu4_RU-iPuh",
        "colab": {
          "base_uri": "https://localhost:8080/"
        },
        "outputId": "15c981cf-9b75-4b1a-b706-59c69331458e"
      },
      "outputs": [
        {
          "output_type": "stream",
          "name": "stdout",
          "text": [
            "Number of MDD patient: 3780\n",
            "Number of Healthy patient: 564\n"
          ]
        }
      ],
      "source": [
        "healthy_count, mdd_count = 0, 0\n",
        "for sample in eeg_labels:\n",
        "  if sample[1] == \"MDD\":\n",
        "      mdd_count += 1\n",
        "  else:\n",
        "      healthy_count += 1\n",
        "\n",
        "print(f\"Number of MDD patient: {mdd_count}\")\n",
        "print(f\"Number of Healthy patient: {healthy_count}\")"
      ]
    },
    {
      "cell_type": "markdown",
      "metadata": {
        "id": "CpyjPRqmaPN8"
      },
      "source": [
        "### **Converting the labels to binary**\n",
        "1 -> MDD\n",
        "\n",
        "0 -> HEALTHY"
      ]
    },
    {
      "cell_type": "markdown",
      "metadata": {
        "id": "VU0Kf2SFYNT_"
      },
      "source": [
        "# **Model**"
      ]
    },
    {
      "cell_type": "code",
      "execution_count": null,
      "metadata": {
        "id": "b2X4KAfWcAVk"
      },
      "outputs": [],
      "source": [
        "from sklearn.model_selection import train_test_split\n",
        "from sklearn.svm import SVC\n",
        "from sklearn.decomposition import PCA\n",
        "from sklearn.metrics import accuracy_score, precision_score, recall_score, f1_score, confusion_matrix\n",
        "import matplotlib.pyplot as plt"
      ]
    },
    {
      "cell_type": "code",
      "execution_count": null,
      "metadata": {
        "id": "WyCSl6BScBEJ",
        "colab": {
          "base_uri": "https://localhost:8080/"
        },
        "outputId": "7b8c77ef-5b46-465f-c181-056be8ce18d7"
      },
      "outputs": [
        {
          "output_type": "stream",
          "name": "stdout",
          "text": [
            "Length of filtered ec_eeg_labels: 4248\n",
            "Length of filtered eeg_data: 4248\n",
            "4248\n",
            "354\n",
            "94\n",
            "(1128, 64, 4975)\n"
          ]
        }
      ],
      "source": [
        "ll = ec_eeg_labels\n",
        "encountered_sample_ids = {}\n",
        "sample_ids_with_more_than_12_entries = []\n",
        "\n",
        "for index, sample_id in enumerate(ll):\n",
        "    sample_id_tuple = tuple(sample_id)\n",
        "    count = encountered_sample_ids.get(sample_id_tuple, 0)\n",
        "    count += 1\n",
        "    encountered_sample_ids[sample_id_tuple] = count\n",
        "    if count > 12:\n",
        "        sample_ids_with_more_than_12_entries.append((sample_id_tuple, index))\n",
        "\n",
        "indices_to_remove = [index for _, index in sample_ids_with_more_than_12_entries]\n",
        "ec_eeg_labels = [sample for i, sample in enumerate(ec_eeg_labels) if i not in indices_to_remove]\n",
        "eeg_data = [data for i, data in enumerate(eeg_data) if i not in indices_to_remove]\n",
        "print(\"Length of filtered ec_eeg_labels:\", len(ec_eeg_labels))\n",
        "print(\"Length of filtered eeg_data:\", len(eeg_data))\n",
        "\n",
        "\n",
        "###### Undersampling and preparing training data ########\n",
        "ll = ec_eeg_labels\n",
        "unique_sample_id = []\n",
        "encountered_sample_ids = set()\n",
        "print(len(ll))\n",
        "for sample_id in ll:\n",
        "    sample_id_tuple = tuple(sample_id)\n",
        "    if sample_id_tuple not in encountered_sample_ids:\n",
        "        unique_sample_id.append(sample_id)\n",
        "        encountered_sample_ids.add(sample_id_tuple)\n",
        "print(len(unique_sample_id))\n",
        "\n",
        "num_samples_minority = 47\n",
        "indices_maj = [index for index, sample in enumerate(unique_sample_id) if sample[1] == \"MDD\"]\n",
        "indices_min = [index for index, sample in enumerate(unique_sample_id) if sample[1] == \"HEALTHY\"]\n",
        "undersampled = np.random.choice(indices_maj, num_samples_minority, replace=False)\n",
        "\n",
        "balanced_data_indices = np.concatenate([indices_min, undersampled])\n",
        "# print(unique_sample_id)\n",
        "balanced_unique_sample_id = [unique_sample_id[i] for i in balanced_data_indices]\n",
        "\n",
        "# Extract all unique sample IDs from train_unique_sample_id\n",
        "unique_sample_ids = [sample_id[0] for sample_id in balanced_unique_sample_id]\n",
        "print(len(unique_sample_ids))\n",
        "# Extract all indices from eeg_labels for sample IDs in train_unique_sample_id\n",
        "indices = []\n",
        "for i, sample_id in enumerate(ec_eeg_labels):\n",
        "  # print(sample_id[0])\n",
        "  if sample_id[0] in unique_sample_ids:\n",
        "        indices.append(i)\n",
        "\n",
        "# Convert indices to a NumPy array\n",
        "indices = np.array(indices)\n",
        "X_train = []\n",
        "y_train = []\n",
        "for i in indices:\n",
        "    X_train.append(eeg_data[i])\n",
        "    y_train.append(eeg_labels[i])\n",
        "\n",
        "X_train = np.array(X_train)\n",
        "y_train = np.array(y_train)\n",
        "\n",
        "# Shuffle together with their indices\n",
        "permutation = np.random.permutation(len(X_train))\n",
        "X_train = X_train[permutation]\n",
        "y_train = y_train[permutation]\n",
        "\n",
        "print(X_train.shape)\n",
        "# print(y_train)\n",
        "\n",
        "sample_ids = []\n",
        "for sample in y_train:\n",
        "  sample_ids.append(sample[0])\n",
        "sample_ids = np.array(sample_ids)\n",
        "l = np.array([1 if label[1] == \"MDD\" else 0 for label in y_train])"
      ]
    },
    {
      "cell_type": "markdown",
      "source": [
        "# results sigmoid"
      ],
      "metadata": {
        "id": "WAk0Kkk8i1XN"
      }
    },
    {
      "cell_type": "code",
      "source": [
        "from sklearn.model_selection import KFold\n",
        "from sklearn.svm import SVC\n",
        "from sklearn.metrics import accuracy_score, precision_score, recall_score, f1_score, confusion_matrix\n",
        "from sklearn.utils.class_weight import compute_class_weight\n",
        "import numpy as np\n",
        "\n",
        "class EEGClassifier:\n",
        "    def __init__(self):\n",
        "        # Model geïnitialiseerd met de beste parameters\n",
        "        self.model = SVC(kernel='sigmoid', C=0.4)\n",
        "\n",
        "    def train(self, X_train, y_train):\n",
        "        # Flatten X_train voor SVM gebruik\n",
        "        X_train_flattened = X_train.reshape(X_train.shape[0], -1)\n",
        "\n",
        "        # Extract alleen de labels van y_train\n",
        "        y_labels = np.array([label[1] for label in y_train])  # Selecteer de tweede kolom, die de labels bevat\n",
        "\n",
        "        # Bereken klasse gewichten\n",
        "        class_weights = compute_class_weight('balanced', classes=np.unique(y_labels), y=y_labels)\n",
        "        class_weight_dict = dict(zip(np.unique(y_labels), class_weights))\n",
        "\n",
        "        # Stel klasse gewichten in en train het model\n",
        "        self.model.class_weight = class_weight_dict\n",
        "        self.model.fit(X_train_flattened, y_labels)\n",
        "\n",
        "    def evaluate(self, X_test, y_test):\n",
        "        # Flatten X_test voor SVM gebruik\n",
        "        X_test_flattened = X_test.reshape(X_test.shape[0], -1)\n",
        "        # Extract alleen de labels van y_test\n",
        "        y_labels = np.array([label[1] for label in y_test])  # Selecteer de tweede kolom, die de labels bevat\n",
        "        y_pred = self.model.predict(X_test_flattened)\n",
        "\n",
        "        return {\n",
        "            'accuracy': accuracy_score(y_labels, y_pred),\n",
        "            'precision': precision_score(y_labels, y_pred, average='macro'),\n",
        "            'recall': recall_score(y_labels, y_pred, average='macro'),\n",
        "            'f1_score': f1_score(y_labels, y_pred, average='macro'),\n",
        "            'confusion_matrix': confusion_matrix(y_labels, y_pred)\n",
        "        }\n",
        "\n",
        "def main():\n",
        "    X_train_flattened = X_train.reshape(X_train.shape[0], -1)\n",
        "\n",
        "    num_splits = 5\n",
        "    cv = KFold(n_splits=num_splits, shuffle=True, random_state=42)\n",
        "\n",
        "    classifier = EEGClassifier()\n",
        "\n",
        "    for fold_idx, (train_index, val_index) in enumerate(cv.split(X_train_flattened), 1):\n",
        "        print(f\"Fold {fold_idx}:\")\n",
        "\n",
        "        X_train_fold = X_train_flattened[train_index]\n",
        "        y_train_fold = y_train[train_index]\n",
        "        X_val_fold = X_train_flattened[val_index]\n",
        "        y_val_fold = y_train[val_index]\n",
        "\n",
        "        classifier.train(X_train_fold, y_train_fold)\n",
        "\n",
        "        # Evalueren van de training data\n",
        "        train_metrics = classifier.evaluate(X_train_fold, y_train_fold)\n",
        "        print(f'Training Results - Accuracy: {train_metrics[\"accuracy\"]}, Precision: {train_metrics[\"precision\"]}, Recall: {train_metrics[\"recall\"]}, F1 Score: {train_metrics[\"f1_score\"]}')\n",
        "\n",
        "        # Evalueren van de validatie data\n",
        "        val_metrics = classifier.evaluate(X_val_fold, y_val_fold)\n",
        "        print(f'Validation Results - Accuracy: {val_metrics[\"accuracy\"]}, Precision: {val_metrics[\"precision\"]}, Recall: {val_metrics[\"recall\"]}, F1 Score: {val_metrics[\"f1_score\"]}')\n",
        "        print('Validation Confusion Matrix:')\n",
        "        print(val_metrics['confusion_matrix'])\n",
        "        print()\n",
        "\n",
        "if __name__ == \"__main__\":\n",
        "    main()\n"
      ],
      "metadata": {
        "id": "9YpppAlmi3I5",
        "colab": {
          "base_uri": "https://localhost:8080/"
        },
        "outputId": "452000ff-6e63-49f8-dea2-53f41645e886"
      },
      "execution_count": null,
      "outputs": [
        {
          "output_type": "stream",
          "name": "stdout",
          "text": [
            "Fold 1:\n",
            "Training Results - Accuracy: 0.8137472283813747, Precision: 0.7934795618348816, Recall: 0.8068345656443654, F1 Score: 0.7987804878048781\n",
            "Validation Results - Accuracy: 0.5486725663716814, Precision: 0.5280353200883002, Recall: 0.5253736114440981, F1 Score: 0.5213455149501661\n",
            "Validation Confusion Matrix:\n",
            "[[35 62]\n",
            " [40 89]]\n",
            "\n",
            "Fold 2:\n",
            "Training Results - Accuracy: 0.7727272727272727, Precision: 0.7684282563314822, Recall: 0.7856641359761497, F1 Score: 0.7679817005306394\n",
            "Validation Results - Accuracy: 0.5221238938053098, Precision: 0.5221238938053098, Recall: 0.526077725468476, F1 Score: 0.5032967032967033\n",
            "Validation Confusion Matrix:\n",
            "[[37 32]\n",
            " [76 81]]\n",
            "\n",
            "Fold 3:\n",
            "Training Results - Accuracy: 0.6851441241685144, Precision: 0.729023548043721, Recall: 0.7345778486903338, F1 Score: 0.6849892523893144\n",
            "Validation Results - Accuracy: 0.49557522123893805, Precision: 0.5419788168431929, Recall: 0.541507024265645, F1 Score: 0.4955357142857143\n",
            "Validation Confusion Matrix:\n",
            "[[57 24]\n",
            " [90 55]]\n",
            "\n",
            "Fold 4:\n",
            "Training Results - Accuracy: 0.7951273532668881, Precision: 0.7831243604137068, Recall: 0.8029925253320007, F1 Score: 0.7870372613084866\n",
            "Validation Results - Accuracy: 0.47555555555555556, Precision: 0.4625777140124343, Recall: 0.4599607709363807, F1 Score: 0.4575433148087611\n",
            "Validation Confusion Matrix:\n",
            "[[33 49]\n",
            " [69 74]]\n",
            "\n",
            "Fold 5:\n",
            "Training Results - Accuracy: 0.7619047619047619, Precision: 0.7608688186813187, Recall: 0.7815812884572615, F1 Score: 0.7571770020749613\n",
            "Validation Results - Accuracy: 0.5022222222222222, Precision: 0.5274484326782524, Recall: 0.5293046644702618, F1 Score: 0.49999999999999994\n",
            "Validation Confusion Matrix:\n",
            "[[49 30]\n",
            " [82 64]]\n",
            "\n"
          ]
        }
      ]
    },
    {
      "cell_type": "markdown",
      "source": [
        "# Results rbf"
      ],
      "metadata": {
        "id": "3zK3zBo3WNxk"
      }
    },
    {
      "cell_type": "code",
      "source": [
        "from sklearn.model_selection import KFold\n",
        "from sklearn.svm import SVC\n",
        "from sklearn.metrics import accuracy_score, precision_score, recall_score, f1_score, confusion_matrix\n",
        "from sklearn.utils.class_weight import compute_class_weight\n",
        "import numpy as np\n",
        "\n",
        "class EEGClassifier:\n",
        "    def __init__(self):\n",
        "        # Model geïnitialiseerd met de beste parameters\n",
        "        self.model = SVC(kernel='rbf', C=0.4)\n",
        "\n",
        "    def train(self, X_train, y_train):\n",
        "        # Flatten X_train voor SVM gebruik\n",
        "        X_train_flattened = X_train.reshape(X_train.shape[0], -1)\n",
        "\n",
        "        # Extract alleen de labels van y_train\n",
        "        y_labels = np.array([label[1] for label in y_train])  # Selecteer de tweede kolom, die de labels bevat\n",
        "\n",
        "        # Bereken klasse gewichten\n",
        "        class_weights = compute_class_weight('balanced', classes=np.unique(y_labels), y=y_labels)\n",
        "        class_weight_dict = dict(zip(np.unique(y_labels), class_weights))\n",
        "\n",
        "        # Stel klasse gewichten in en train het model\n",
        "        self.model.class_weight = class_weight_dict\n",
        "        self.model.fit(X_train_flattened, y_labels)\n",
        "\n",
        "    def evaluate(self, X_test, y_test):\n",
        "        # Flatten X_test voor SVM gebruik\n",
        "        X_test_flattened = X_test.reshape(X_test.shape[0], -1)\n",
        "        # Extract alleen de labels van y_test\n",
        "        y_labels = np.array([label[1] for label in y_test])  # Selecteer de tweede kolom, die de labels bevat\n",
        "        y_pred = self.model.predict(X_test_flattened)\n",
        "\n",
        "        return {\n",
        "            'accuracy': accuracy_score(y_labels, y_pred),\n",
        "            'precision': precision_score(y_labels, y_pred, average='macro'),\n",
        "            'recall': recall_score(y_labels, y_pred, average='macro'),\n",
        "            'f1_score': f1_score(y_labels, y_pred, average='macro'),\n",
        "            'confusion_matrix': confusion_matrix(y_labels, y_pred)\n",
        "        }\n",
        "\n",
        "def main():\n",
        "    # Hier moet je eigen data laden en aanpassen\n",
        "    # Bijvoorbeeld:\n",
        "    # X_train, y_train = load_your_data()\n",
        "\n",
        "    X_train_flattened = X_train.reshape(X_train.shape[0], -1)\n",
        "\n",
        "    num_splits = 5\n",
        "    cv = KFold(n_splits=num_splits, shuffle=True, random_state=42)\n",
        "\n",
        "    classifier = EEGClassifier()\n",
        "\n",
        "    for fold_idx, (train_index, val_index) in enumerate(cv.split(X_train_flattened), 1):\n",
        "        print(f\"Fold {fold_idx}:\")\n",
        "\n",
        "        X_train_fold = X_train_flattened[train_index]\n",
        "        y_train_fold = y_train[train_index]\n",
        "        X_val_fold = X_train_flattened[val_index]\n",
        "        y_val_fold = y_train[val_index]\n",
        "\n",
        "        classifier.train(X_train_fold, y_train_fold)\n",
        "\n",
        "        # Evalueren van de training data\n",
        "        train_metrics = classifier.evaluate(X_train_fold, y_train_fold)\n",
        "        print(f'Training Results - Accuracy: {train_metrics[\"accuracy\"]}, Precision: {train_metrics[\"precision\"]}, Recall: {train_metrics[\"recall\"]}, F1 Score: {train_metrics[\"f1_score\"]}')\n",
        "\n",
        "        # Evalueren van de validatie data\n",
        "        val_metrics = classifier.evaluate(X_val_fold, y_val_fold)\n",
        "        print(f'Validation Results - Accuracy: {val_metrics[\"accuracy\"]}, Precision: {val_metrics[\"precision\"]}, Recall: {val_metrics[\"recall\"]}, F1 Score: {val_metrics[\"f1_score\"]}')\n",
        "        print('Validation Confusion Matrix:')\n",
        "        print(val_metrics['confusion_matrix'])\n",
        "        print()\n",
        "\n",
        "if __name__ == \"__main__\":\n",
        "    main()\n"
      ],
      "metadata": {
        "id": "EYPQXySkqeA7",
        "colab": {
          "base_uri": "https://localhost:8080/"
        },
        "outputId": "db3ab451-bb00-4914-be53-116d4844ddda"
      },
      "execution_count": null,
      "outputs": [
        {
          "output_type": "stream",
          "name": "stdout",
          "text": [
            "Fold 1:\n",
            "Training Results - Accuracy: 0.6929046563192904, Precision: 0.7360733835452937, Recall: 0.7496558778243861, F1 Score: 0.6921384116641757\n",
            "Validation Results - Accuracy: 0.5088495575221239, Precision: 0.5377844950213371, Recall: 0.5339646767361944, F1 Score: 0.5037094189566146\n",
            "Validation Confusion Matrix:\n",
            "[[69 28]\n",
            " [83 46]]\n",
            "\n",
            "Fold 2:\n",
            "Training Results - Accuracy: 0.7827050997782705, Precision: 0.7952633481384651, Recall: 0.8124354883499165, F1 Score: 0.781232676011721\n",
            "Validation Results - Accuracy: 0.5442477876106194, Precision: 0.5752403846153846, Recall: 0.5866795901412352, F1 Score: 0.5376487178977893\n",
            "Validation Confusion Matrix:\n",
            "[[48 21]\n",
            " [82 75]]\n",
            "\n",
            "Fold 3:\n",
            "Training Results - Accuracy: 0.7361419068736141, Precision: 0.7893805309734514, Recall: 0.7930434782608695, F1 Score: 0.7361094721107702\n",
            "Validation Results - Accuracy: 0.504424778761062, Precision: 0.5834063686824422, Recall: 0.5729246487867177, F1 Score: 0.5012610340479193\n",
            "Validation Confusion Matrix:\n",
            "[[66 15]\n",
            " [97 48]]\n",
            "\n",
            "Fold 4:\n",
            "Training Results - Accuracy: 0.689922480620155, Precision: 0.7335088390760606, Recall: 0.7400187132513212, F1 Score: 0.6897211859414885\n",
            "Validation Results - Accuracy: 0.4533333333333333, Precision: 0.48200066357000665, Recall: 0.4814941156404571, F1 Score: 0.4529443159580146\n",
            "Validation Confusion Matrix:\n",
            "[[48 34]\n",
            " [89 54]]\n",
            "\n",
            "Fold 5:\n",
            "Training Results - Accuracy: 0.7142857142857143, Precision: 0.7478514831369363, Recall: 0.7583957298539551, F1 Score: 0.7137517692852089\n",
            "Validation Results - Accuracy: 0.4711111111111111, Precision: 0.5138888888888888, Recall: 0.5140454308999479, F1 Score: 0.4710693190573082\n",
            "Validation Confusion Matrix:\n",
            "[[52 27]\n",
            " [92 54]]\n",
            "\n"
          ]
        }
      ]
    },
    {
      "cell_type": "code",
      "source": [],
      "metadata": {
        "id": "3Qv8m3ODe4EU"
      },
      "execution_count": null,
      "outputs": []
    }
  ],
  "metadata": {
    "accelerator": "GPU",
    "colab": {
      "gpuType": "V100",
      "machine_shape": "hm",
      "provenance": []
    },
    "kernelspec": {
      "display_name": "Python 3",
      "name": "python3"
    },
    "language_info": {
      "name": "python"
    }
  },
  "nbformat": 4,
  "nbformat_minor": 0
}
